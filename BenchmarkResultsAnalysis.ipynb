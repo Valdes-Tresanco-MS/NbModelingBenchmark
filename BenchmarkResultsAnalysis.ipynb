{
 "cells": [
  {
   "cell_type": "code",
   "execution_count": 2,
   "metadata": {
    "collapsed": true
   },
   "outputs": [],
   "source": [
    "from cmath import sqrt\n",
    "from pathlib import Path\n",
    "\n",
    "import numpy as np\n",
    "import parmed\n",
    "from tqdm.notebook import tqdm\n",
    "import shutil\n",
    "import subprocess\n",
    "import pandas as pd"
   ]
  },
  {
   "cell_type": "code",
   "execution_count": 47,
   "outputs": [],
   "source": [
    "# define the working directory\n",
    "wdir = Path('pdb')\n",
    "all_files = wdir.glob('*.pdb')\n",
    "# create a dict to identify the Ai model\n",
    "files_dataset = {}\n",
    "\n",
    "for f in all_files:\n",
    "    if len(f.stem) == 9:\n",
    "        if not files_dataset.get(f):\n",
    "            files_dataset[f] = {}\n",
    "    else:\n",
    "        basename = f.stem[:6]\n",
    "        model = f.stem[7:]\n",
    "        native = f.parent.joinpath(f'{basename}.pdb')\n",
    "        if not files_dataset.get(native):\n",
    "            files_dataset[native] = {} if len(f.stem) == 6 else {model: f}\n",
    "        elif len(f.stem) != 6:\n",
    "            files_dataset[native][model] = f\n",
    "\n",
    "# files_dataset"
   ],
   "metadata": {
    "collapsed": false
   }
  },
  {
   "cell_type": "code",
   "execution_count": 48,
   "outputs": [],
   "source": [
    "def get_tmscore_output(out):\n",
    "    results = {}\n",
    "    for l in out:\n",
    "        if not l or l.startswith(' '):\n",
    "            continue\n",
    "        if l.startswith('Number of residues in common'):\n",
    "            results['Number of residues in common'] = int(l.split()[-1])\n",
    "        elif l.startswith('RMSD of  the common residues'):\n",
    "            results['global rmsd'] = float(l.split()[-1])\n",
    "        elif l.startswith('TM-score'):\n",
    "            results['TM-score'] = float(l.split()[2])\n",
    "        elif l.startswith('MaxSub-score'):\n",
    "            results['MaxSub-score'] = float(l.split()[1])\n",
    "        elif l.startswith('GDT-TS-score'):\n",
    "            results['GDT-TS-score'] = float(l.split()[1])\n",
    "            results['GDT-TS-score %(d<1)'] = float(l.split()[2].split('=')[-1])\n",
    "            results['GDT-TS-score %(d<2)'] = float(l.split()[3].split('=')[-1])\n",
    "            results['GDT-TS-score %(d<4)'] = float(l.split()[4].split('=')[-1])\n",
    "            results['GDT-TS-score %(d<8)'] = float(l.split()[5].split('=')[-1])\n",
    "        elif l.startswith('GDT-HA-score'):\n",
    "            results['GDT-HA-score'] = float(l.split()[1])\n",
    "            results['GDT-HA-score %(d<0.5)'] = float(l.split()[2].split('=')[-1])\n",
    "            results['GDT-HA-score %(d<1)'] = float(l.split()[3].split('=')[-1])\n",
    "            results['GDT-HA-score %(d<2)'] = float(l.split()[4].split('=')[-1])\n",
    "            results['GDT-HA-score %(d<4)'] = float(l.split()[5].split('=')[-1])\n",
    "        elif l.startswith('Superposition in the TM-score'):\n",
    "            results['TM-score Superposition Length(d<5.0)'] = int(l.split()[-1])\n",
    "    return results\n",
    "\n",
    "def get_dist(coor1, coor2):\n",
    "    return sqrt((coor2[0] - coor1[0]) ** 2 + (coor2[1] - coor1[1]) ** 2 + (coor2[2] - coor1[2]) ** 2)\n",
    "\n",
    "def get_rmsd(dist_list):\n",
    "    diff = np.array(dist_list)\n",
    "    N = len(diff)\n",
    "    return round(np.sqrt((diff * diff).sum() / N), 1)\n",
    "\n",
    "residues_code = {'HIS': 'H', 'HIE': 'H', 'HID': 'H', 'CYX': 'C', 'CYM': 'C', 'CYS': 'C', 'LYN': 'K','ASH': 'D',\n",
    "                 'GLH': 'E', 'LYS': 'K', 'ARG': 'R', 'HIP': 'H', 'GLU': 'E', 'ASP': 'D', 'PHE': 'F', 'TRP': 'W',\n",
    "                 'VAL': 'V', 'ILE': 'I', 'LEU': 'L', 'MET': 'M', 'PRO': 'P','ALA': 'A', 'GLY': 'G', 'TYR': 'Y',\n",
    "                 'SER': 'S', 'THR': 'T', 'GLN': 'Q', 'ASN': 'N'}\n",
    "bb_atoms = ['CA', 'C', 'N', 'O']"
   ],
   "metadata": {
    "collapsed": false
   }
  },
  {
   "cell_type": "code",
   "execution_count": 49,
   "outputs": [],
   "source": [
    "tmscore_exe = '/home/mario/WORK/Nb_modelling/programs/TMscore'"
   ],
   "metadata": {
    "collapsed": false
   }
  },
  {
   "cell_type": "code",
   "execution_count": 50,
   "outputs": [
    {
     "data": {
      "text/plain": "  0%|          | 0/75 [00:00<?, ?it/s]",
      "application/vnd.jupyter.widget-view+json": {
       "version_major": 2,
       "version_minor": 0,
       "model_id": "7c6a1cfa79344157bb940e7e834876de"
      }
     },
     "metadata": {},
     "output_type": "display_data"
    }
   ],
   "source": [
    "model_data = {'model': [], 'Number of residues in common': [], 'global rmsd': [], 'TM-score': [], 'MaxSub-score': [],\n",
    "              'GDT-TS-score': [], 'GDT-TS-score %(d<1)': [], 'GDT-TS-score %(d<2)': [], 'GDT-TS-score %(d<4)': [],\n",
    "              'GDT-TS-score %(d<8)': [], 'GDT-HA-score': [], 'GDT-HA-score %(d<0.5)': [], 'GDT-HA-score %(d<1)': [],\n",
    "              'GDT-HA-score %(d<2)': [], 'GDT-HA-score %(d<4)': [], 'TM-score Superposition Length(d<5.0)': []}\n",
    "aligned_results_folder = Path('aligned_pdb_results')\n",
    "index = []\n",
    "seqs = {}\n",
    "for p, ms in tqdm(files_dataset.items()):\n",
    "    # Sequence\n",
    "    seqs[p.stem[:6]] = open(f'fasta/{p.stem[:6]}.fasta').readlines()[1].strip('\\n')\n",
    "    o = aligned_results_folder.joinpath(p.stem)\n",
    "    # print(o)\n",
    "    o.mkdir(exist_ok=True)\n",
    "    shutil.copyfile(p, o.joinpath(p.name))\n",
    "\n",
    "    # TM-score\n",
    "    for m, f in ms.items():\n",
    "        mf = o.joinpath(f.stem.split('_')[2])\n",
    "        mf.mkdir(exist_ok=True)\n",
    "        with subprocess.Popen([tmscore_exe, f, p,\n",
    "                               '-o', mf.joinpath(f'{f.stem[:-6]}_sup').as_posix()],\n",
    "                              stdout=subprocess.PIPE) as process:\n",
    "            output = process.communicate()[0].decode(\"utf-8\").split('\\n')\n",
    "            with mf.joinpath(f\"{f.stem.split('_')[2]}.log\").open('w') as of:\n",
    "                for ol in output:\n",
    "                    of.write(ol + '\\n')\n",
    "            index.append(f.stem[:6])\n",
    "            model_data['model'].append(f.stem.split('_')[2])\n",
    "            for x, v in get_tmscore_output(output).items():\n",
    "                model_data[x].append(v)\n",
    "            # print(p.stem, f.stem)\n",
    "            # print('\\n'.join(x for x in output[-6:] if x))\n",
    "\n",
    "models_df = pd.DataFrame(data=model_data, index=index)"
   ],
   "metadata": {
    "collapsed": false
   }
  },
  {
   "cell_type": "code",
   "execution_count": 51,
   "outputs": [],
   "source": [
    "aho_align = {\n",
    "    '7n9c_D': {'Fw1': 'QVQLVESGGGLVQAGGSLRLSC', 'CDR1': 'AA-SGRTFSS-YS', 'Fw2': 'MGWFRQAQGKEREFVA',\n",
    "               'CDR2': 'TINGN---GRDT', 'Fw3': 'YYTNSVKGRFTISRDDATNTVYLQMNSLKPEDTAIYYCAA',\n",
    "               'CDR3': 'DKDVYYGY-------TSFPNEYEY', 'Fw4': 'WGQGTQVTVSS'},\n",
    "    '7d8b_B': {'Fw1': 'EVQLVESGGGLVQPGGSLRLSS', 'CDR1': 'AI-SGFSISS-TS', 'Fw2': 'IDWVRQAPGKGLEWVA',\n",
    "               'CDR2': 'RISPS---SGST', 'Fw3': 'SYADSVKGRFTISADTSKNTVYLQMNSLRAEDTAVYYTGR',\n",
    "               'CDR3': 'VAKALNSRSPSFVVNTYSSIGFDY', 'Fw4': 'RGQGTLVTVSS'},\n",
    "    '7l6v_D': {'Fw1': 'QVQLVESGGGSVQPGGSLRLSC', 'CDR1': 'AA-IGSVFTM-YT', 'Fw2': 'TAWYRQTPGNLRELVA',\n",
    "               'CDR2': 'SITD----EHRT', 'Fw3': 'NYAASAEGRFTISRDNAKHTVDLQMTNLKPEDTAVYYCKL',\n",
    "               'CDR3': 'EHDL---------------GYYDY', 'Fw4': 'WGQGTQVTVSS'},\n",
    "    '7p5v_G': {'Fw1': 'QVQLVESGGGLVQAGGSLRLSC', 'CDR1': 'AA-SGFPVGR-HF', 'Fw2': 'MYWYRQAPGKEREWVA',\n",
    "               'CDR2': 'AIYSY---GEYT', 'Fw3': 'EYADSVKGRFTISRDNAKNTVYLQMNSLKPEDTAVYYCYV',\n",
    "               'CDR3': 'YVG------------------NEY', 'Fw4': 'WGQGTQVTVSA'},\n",
    "    '6zwk_A': {'Fw1': 'EVQLVESGGGLVQAGDSLRLSC', 'CDR1': 'AA-SGLTFSR-YA', 'Fw2': 'MGWFRQAPGNEREFVA',\n",
    "               'CDR2': 'VITAS---GRTT', 'Fw3': 'LYADSVKGRFTISRDNAKNTVALQMQSLKPEDTAVYYCAA',\n",
    "               'CDR3': 'DYGTSRYT--------RRQSEYEY', 'Fw4': 'WGQGTQVTVSS'},\n",
    "    '7ocy_C': {'Fw1': 'QLQLVESGGGLVQAGDTLRLSC', 'CDR1': 'EA-S-RSFN---R', 'Fw2': 'MGWYRQAPGKQRDMVA',\n",
    "               'CDR2': 'HIFS----DGRT', 'Fw3': 'RYADSVQGRFTISRDNAKNTVYLQMNNLKPEDTAVYYCNG',\n",
    "               'CDR3': 'FFI------------------QDF', 'Fw4': 'WGQGTPVTVSA'},\n",
    "    '7cz0_E': {'Fw1': 'QVQLVESGGGLVQAGGSLRLSC', 'CDR1': 'AA-SGFPVDT-QW', 'Fw2': 'MHWYRQAPGKEREWVA',\n",
    "               'CDR2': 'AISST---GRST', 'Fw3': 'FYADSVKGRFTISRDNAKNTVYLQMNSLKPEDTAVYYCTV',\n",
    "               'CDR3': 'YVG------------------NRY', 'Fw4': 'RGQGTQVTVSA'},\n",
    "    '7oan_F': {'Fw1': 'QVQLVESGGGSVQAGGSLTLSC', 'CDR1': 'VA-SGVTLGR-HA', 'Fw2': 'IGWFRQAPGKERERVS',\n",
    "               'CDR2': 'CIRTF---DGIT', 'Fw3': 'SYVESTKGRFTISSNNAMNTVYLQMNSLKPEDTAVYFCAL',\n",
    "               'CDR3': 'GVTAAC------------SDNPYF', 'Fw4': 'WGQGTQVTVSS'},\n",
    "    '7m1h_F': {'Fw1': 'QLQLVESGGGLVQPGGSLRLSC', 'CDR1': 'AA-SGNIFSI-YY', 'Fw2': 'MGWYRQAPGKQREMVA',\n",
    "               'CDR2': 'IINS----NGIT', 'Fw3': 'NYGDFVKGRFTISRDNAENSAYLQMNNLTPEDTAVYYCNA',\n",
    "               'CDR3': 'GKLRRTT----------GWGLDDY', 'Fw4': 'WGQGTQVTVSS'},\n",
    "    '7kd0_C': {'Fw1': 'QVQLVESGGGLVQPGGSLRLSC', 'CDR1': 'VA-SGFTFSS-TP', 'Fw2': 'MNWFRQAPGKEREFVA',\n",
    "               'CDR2': 'GVGSR---NDIA', 'Fw3': 'YYADSVKGRFTVSRDDAKNTVYLQMNSLKPEDTGVYYCKR',\n",
    "               'CDR3': 'PAGR---------------IEDEL', 'Fw4': 'WGQGTQVTVSS'},\n",
    "    '7tpr_D': {'Fw1': 'AVQLVDSGGGSVQAGGSLRLSC', 'CDR1': 'AA-SGYTYSI-CT', 'Fw2': 'MGWYRQAPGEGLEWVS',\n",
    "               'CDR2': 'GINAD---GSNT', 'Fw3': 'HYTDSVKGRFTISRDNAKKTLYLQMNSLKPEDTAIYYCAA',\n",
    "               'CDR3': 'HGTYDKYAP-----CGGFAGTYTY', 'Fw4': 'WGQGTQVTVSS'},\n",
    "    '7z1b_E': {'Fw1': 'QVQLVESGGGLMQAGGSLRLSC', 'CDR1': 'AV-SGRTFST-AA', 'Fw2': 'MGWFRQAPGKEREFVA',\n",
    "               'CDR2': 'AIRWS---GGSA', 'Fw3': 'YYADSVKGRFTISRDKAKNTVYLQMNSLKYEDTAVYYCAG',\n",
    "               'CDR3': 'FSATRSLLS------DYATWPYDY', 'Fw4': 'WGQGTQVTVSS'},\n",
    "    '7nft_C': {'Fw1': 'QVQLQESGGGLVQPGGSLRLSC', 'CDR1': 'AA-SGRTFSM-YA', 'Fw2': 'MAWFRQAPGKQREFVG',\n",
    "               'CDR2': 'TISRS---GDYA', 'Fw3': 'LHADAVKGRFTISRDNAKNTVYLQMNSLKLEDTAVYYCAA',\n",
    "               'CDR3': 'GAYHSK-----------DKTLYDY', 'Fw4': 'WGQGTQVTVSS'},\n",
    "    '7rby_B': {'Fw1': 'DVQLQESGGGLVQPGGSLRLSC', 'CDR1': 'AA-SGLTLDY-YA', 'Fw2': 'IGWFRQAPGKEREGVS',\n",
    "               'CDR2': 'CISSS---DGST', 'Fw3': 'YYADSVKGRFTTSRDNAKNTVYLQMNSLKPEDTAVYYCAA',\n",
    "               'CDR3': 'VPSTYYSGTY---YYTCHPGGMDY', 'Fw4': 'WGKGTQVTVSS'},\n",
    "    '7d4b_B': {'Fw1': 'QVQLVESGGGVVQPGRSLRLSC', 'CDR1': 'AA-SGSTFSI-VA', 'Fw2': 'MGWYRQAPGKQRELVA',\n",
    "               'CDR2': 'SIITG---DGDT', 'Fw3': 'NYADSVKGRFTISRDNSKNTMYLQMNSLKPEDTAVYYCYA',\n",
    "               'CDR3': 'RTGYGSSW--------LMGHEYDY', 'Fw4': 'WGQGTQVTVSS'},\n",
    "    '7e6u_B': {'Fw1': 'QVQLQESGGGSVQAGGSLRLSC', 'CDR1': 'AA-SGFPIST-YD', 'Fw2': 'MGWFRQAPGKEREGVV',\n",
    "               'CDR2': 'GITD----SFSI', 'Fw3': 'KYEDSVKGRFTISRDNAKNALYLQMNSLKPEDTGMYYCAA',\n",
    "               'CDR3': 'GDARWSLL--------LRAEQYNY', 'Fw4': 'WGQGTQVTVSS'},\n",
    "    '7p5w_G': {'Fw1': 'QVQLVESGGGLVQAGGSLRLSC', 'CDR1': 'AA-SGFPVYQ-AW', 'Fw2': 'MWWYRQAPGKEREWVA',\n",
    "               'CDR2': 'AIESE---GQYT', 'Fw3': 'WYADSVKGRFTISRDNAKNTVYLQMNSLKPEDTAVYYCNV',\n",
    "               'CDR3': 'KDTGHT------------TNQYDY', 'Fw4': 'WGQGTQVTVSA'},\n",
    "    '7vfa_D': {'Fw1': 'QVQLQESGGGSVAAGGSLRLSC', 'CDR1': 'AV-SGVTASS-VY', 'Fw2': 'MAWFRQAPGKEREGLA',\n",
    "               'CDR2': 'GINT----VGYT', 'Fw3': 'TYADSVKGRFTISKDNSENTLYLQMNSLKPEDIALYYCAA',\n",
    "               'CDR3': 'TYLLRFAS--------LSATNFPY', 'Fw4': 'WGQGTQVTVSS'},\n",
    "    '7s7r_B': {'Fw1': 'QVQLQESGGGLVQAGGSLRLSC', 'CDR1': 'AA-SGRTFSS-YG', 'Fw2': 'MGWFRQAPGTEREFVA',\n",
    "               'CDR2': 'AISWS---GDST', 'Fw3': 'YYADSVKGRFTISIDKAKNTVYLQMNSLKPEDTAVYYCAA',\n",
    "               'CDR3': 'DHALVV------------GGTYNY', 'Fw4': 'WGQGTQVTVSS'},\n",
    "    '7fau_B': {'Fw1': 'QVQLQESGGGSVQAGGSLRLSC', 'CDR1': 'AA-SGYTVSV-GC', 'Fw2': 'MAWFRQAPGKEREGVA',\n",
    "               'CDR2': 'GIDA----SGIT', 'Fw3': 'KYSDSVKGRFTISKDNAKNALDLQMNGLKPEDTAMYHCAA',\n",
    "               'CDR3': 'GLVRGSCTD-----VLDHPSYLGV', 'Fw4': 'WGQGTQVTVSS'},\n",
    "    '7nfr_B': {'Fw1': 'QVQLQESGGGLVQPGGSLRLSC', 'CDR1': 'AA-SGFTFSN-YY', 'Fw2': 'MSWVRQAPGEGREWVS',\n",
    "               'CDR2': 'SINRD---GSNT', 'Fw3': 'YYADSVKGRFTIARDNVKNTLYLLMDSLKSDDTAVYYCTK',\n",
    "               'CDR3': 'GSNW----------------PYDN', 'Fw4': 'WGQGTQVTVSS'},\n",
    "    '7lzp_C': {'Fw1': 'QLQLVETGGGLVQPGGSLRLAC', 'CDR1': 'VA-SESVFEM-YT', 'Fw2': 'VAWYRQAPGKQRELVA',\n",
    "               'CDR2': 'GITD----EGRT', 'Fw3': 'NYADFVKGRFTISRDNSKKTVHLQMDNLNPEDTAVYYCKL',\n",
    "               'CDR3': 'EHDL---------------GYYDY', 'Fw4': 'WGQGTQVTVSS'},\n",
    "    '7r63_A': {'Fw1': 'QVQLQESGGGLVQTGGSLRLSC', 'CDR1': 'KA-SGRAFAR-YD', 'Fw2': 'LAWSRQAPGKQREFVA',\n",
    "               'CDR2': 'SIGVT---RNPP', 'Fw3': 'YYSGSVKGRFTVSRDNAKETVYLQMNDLKPEDSAVYYCAA',\n",
    "               'CDR3': 'KDASVTV---------ATIEDYPY', 'Fw4': 'WGRGTQVTVSS'},\n",
    "    '7l6v_B': {'Fw1': 'QVQLAESGGGLVQPGGSLRLSC', 'CDR1': 'AA-SGFTFNR-YV', 'Fw2': 'IRWYRQAPGKERELVA',\n",
    "               'CDR2': 'GISRS---GDSG', 'Fw3': 'RYVDSVKGRFTISRDNDKNMAYLQMSSLKPDDTAVYYCSA',\n",
    "               'CDR3': 'LNLE----------------DMEY', 'Fw4': 'WGQGTQVTVSS'},\n",
    "    '7php_N': {'Fw1': 'QRQLVESGGGLVQPGGSLRLSC', 'CDR1': 'AA-SGIIFKI-ND', 'Fw2': 'MGWFRQAPGKEREGVA',\n",
    "               'CDR2': 'GITS----GGRT', 'Fw3': 'NYADSVKGRFIISRDNVKNTVYLQMNSLEPEDTAVYYCKS',\n",
    "               'CDR3': 'DGLISYA----------ASQLSTY', 'Fw4': 'WGKGTPVTVSS'},\n",
    "    '7anq_B': {'Fw1': 'QVKLEESGGGLVQAGGSLRLSC', 'CDR1': 'SP-SDRTFSA-YA', 'Fw2': 'MGWFRQVPGREREFVA',\n",
    "               'CDR2': 'TIRDS---DASI', 'Fw3': 'YYTDSVKGRFTISRDNAKNTVYLQMNSLIPDDTAVYYCAA',\n",
    "               'CDR3': 'RQYYSGRVY------STFREEYDY', 'Fw4': 'WGQGTQVTVSS'},\n",
    "    '7m1h_E': {'Fw1': 'QVQLAETGGGLVQPGGSLRLSC', 'CDR1': 'TA-STTISDF-YS', 'Fw2': 'MGWFRQTPGNQRELVA',\n",
    "               'CDR2': 'IVRR----GGDT', 'Fw3': 'KSGDSVKGRFTISRDNTRSTVYLQMDNLKPEDTAVYYCYA',\n",
    "               'CDR3': 'NLQKSS-----------DELGPYY', 'Fw4': 'WGQGTQVTVSS'},\n",
    "    '7z1c_E': {'Fw1': 'QVQLVESGGGLMQAGGSLRLSC', 'CDR1': 'AV-SGRTFST-AA', 'Fw2': 'MGWFRQAPGKEREFVA',\n",
    "               'CDR2': 'AIRWS---GGSA', 'Fw3': 'YYADSVKGRFTISRDKAKNTVYLQMNSLKYEDTAVYYCAS',\n",
    "               'CDR3': 'YQATRSLLS------DYATWPYDY', 'Fw4': 'WGQGTQVTVSS'},\n",
    "    '7olz_B': {'Fw1': 'QVQLVESGGGLVQAGGSLRLSC', 'CDR1': 'AA-SGRTFSN-DA', 'Fw2': 'LGWFRQAPRKEREFVA',\n",
    "               'CDR2': 'AINW----NSGT', 'Fw3': 'YYADSVKGRFTISRDNAKNTVYLQMNSLKPEDTAVYSCAA',\n",
    "               'CDR3': 'ASDYGLP---------REDFLYDY', 'Fw4': 'WGQGTQVTVSS'},\n",
    "    '7d6y_B': {'Fw1': 'EVQLVESGGGLVQPGGSLRLSS', 'CDR1': 'AI-SGFSISS-TS', 'Fw2': 'IDWVRQAPGKGLEWVA',\n",
    "               'CDR2': 'RISPS---SGST', 'Fw3': 'SYADSVKGRFTISADTSKNTVYLQMNSLRAEDTAVYYTGR',\n",
    "               'CDR3': 'VAKDLNSSSPSFVVNTYSSFGFDY', 'Fw4': 'RGQGTLVTVSS'},\n",
    "    '7r4i_D': {'Fw1': 'QVQLVESGGGSVQAGGSLKLSC', 'CDR1': 'AA-SGYASWARKC', 'Fw2': 'IGWFRQAPGQEREGVA',\n",
    "               'CDR2': 'AIFDF---DGST', 'Fw3': 'YYSDSVKGRFTISGDNAKNTVSLQMNSLLPKDTAVYYCTV',\n",
    "               'CDR3': 'AFGTCDN---------WYRGRGDY', 'Fw4': 'WGQGTQVTVSS'},\n",
    "    '7fat_B': {'Fw1': 'QVQLQESGGGSVQAGGSLRLSC', 'CDR1': 'AA-SGYTFSS-YC', 'Fw2': 'LGWFRQAPGKEREGVA',\n",
    "               'CDR2': 'AIDS----DGST', 'Fw3': 'SYADSVKGRFTISRDNAKNTLYLQMNSLKPEDTAMYYCAA',\n",
    "               'CDR3': 'EGGPSLSYCTGGYGFLLSGLMYNS', 'Fw4': 'WGQGTQVTVSS'},\n",
    "    '7sl9_B': {'Fw1': 'QVQLQESGGGLVQAGGSLRLSC', 'CDR1': 'AA-SGNISTR-AG', 'Fw2': 'MGWYRQAPGKEREFVA',\n",
    "               'CDR2': 'SINW----GAIT', 'Fw3': 'NYADSVKGRFTISRDNAKNTVYLQMNSLKPEDTAVYYCAV',\n",
    "               'CDR3': 'EYKYGPQ----------RSDTYYY', 'Fw4': 'WGQGTQVTVSS'},\n",
    "    '7nqa_C': {'Fw1': 'QVQLVESGGGLAKPGGSLRLSC', 'CDR1': 'VA-TGTFRSM-ED', 'Fw2': 'VGWYRQAPGKDRELVA',\n",
    "               'CDR2': 'EITT----LGKV', 'Fw3': 'TYADSVKGRFTISRDDAKNAVYLQMSDLKSEDTAVYYCNI',\n",
    "               'CDR3': 'EADQTKG---------IGYVVYPY', 'Fw4': 'WGQGTRVTVSS'},\n",
    "    '7te8_A': {'Fw1': 'EVQLQASGGGFVQPGGSLRLSC', 'CDR1': 'AA-SGTTYGQ-TN', 'Fw2': 'MGWFRQAPGKEREFVS',\n",
    "               'CDR2': 'AISGL--QGRDL', 'Fw3': 'YYADSVKGRFTISRDNSKNTVYLQMNSLRAEDTATYYCAF',\n",
    "               'CDR3': 'HDFL---------------RMWEY', 'Fw4': 'WGQGTQVTVSS'},\n",
    "    '7o06_A': {'Fw1': 'QVQLQESGGGLVQPGGSLRLSC', 'CDR1': 'SA-SGSSFSI-NT', 'Fw2': 'MGWYRQALGKQRELVA',\n",
    "               'CDR2': 'NINS----GGST', 'Fw3': 'NYIDSVKGRFTISRDNAKNMVYLQMNSLKPEDTAVYFCNA',\n",
    "               'CDR3': 'ARPLRPE----------GGRWLNY', 'Fw4': 'WGQGTQVTVSS'},\n",
    "    '7p6k_G': {'Fw1': 'QVQLVESGGGLVQAGGSLRLSC', 'CDR1': 'AA-SGFPVAQ-EI', 'Fw2': 'MTWYRQAPGKEREWVA',\n",
    "               'CDR2': 'AISSI---GDTT', 'Fw3': 'AYADSVKGRFTISRDNAKNTVYLQMNSLKPEDTAVYYCAV',\n",
    "               'CDR3': 'NVG------------------FTY', 'Fw4': 'KGQGTQVTVSA'},\n",
    "    '7omn_A': {'Fw1': 'EVQLVESGGGLVQPGRSLRLSC', 'CDR1': 'AA-SGFDIAY-YS', 'Fw2': 'IGWVRRAPGKGEELVA',\n",
    "               'CDR2': 'RIYPS---SSST', 'Fw3': 'SYADSVKGRFTISADTSKNTAYLQMNSLRAEDTAVYYCAR',\n",
    "               'CDR3': 'WHYDYADW--------PGGYGMDY', 'Fw4': 'WGQGTLVTVSS'},\n",
    "    '7te8_C': {'Fw1': 'EVQLQASGGGFVQPGGSLRLSC', 'CDR1': 'AA-SGSTSRQ-YD', 'Fw2': 'MGWFRQAPGKEREFVS',\n",
    "               'CDR2': 'AISSN--QDQPP', 'Fw3': 'YYADSVKGRFTISRDNSKNTVYLQMNSLRAEDTATYYCAF',\n",
    "               'CDR3': 'KQHH---------------ANGAY', 'Fw4': 'WGQGTQVTVSS'},\n",
    "    '7p60_G': {'Fw1': 'QVQLVESGGGSVQAGGSLRLSC', 'CDR1': 'AA-SGYIYQI-EY', 'Fw2': 'LGWFRQAPGKEREGVA',\n",
    "               'CDR2': 'ALATW---NGQT', 'Fw3': 'YYADSVKGRFTVSLDNAKNTVYLQMNSLKPEDTALYYCAA',\n",
    "               'CDR3': 'AYEGDTSP--------LYYEEYGY', 'Fw4': 'WGQGTQVTVSA'},\n",
    "    '7ar0_B': {'Fw1': 'QVQLQESGGGLVQAGGSLRLSC', 'CDR1': 'AA-SERTFSS-LG', 'Fw2': 'MGWFRQGPGKEREFAA',\n",
    "               'CDR2': 'AISWS---GVST', 'Fw3': 'YYADSVKGRFTISRDNDKNTVYLQMNSLKPDDTAVYYCAA',\n",
    "               'CDR3': 'TSSWNDMA-------LKSAGWYEY', 'Fw4': 'WGQGTQVTVSS'},\n",
    "    '7l6v_C': {'Fw1': 'QVQLVETGGGLVQAGGSLRLSC', 'CDR1': 'TA-SGADFSF-YA', 'Fw2': 'MGWYRQTPGNSRELVA',\n",
    "               'CDR2': 'VMNL----NGVI', 'Fw3': 'SYGDSARGRFDISRDGTKNIVFLQMNSLKPEDTGVYYCNG',\n",
    "               'CDR3': 'MRLYTRG----------SVRHPES', 'Fw4': 'WGQGIQVTVSS'},\n",
    "    '7qbg_E': {'Fw1': 'QRQLVESGGGLVQPGGSLRLSC', 'CDR1': 'AA-SGFTPGI-YD', 'Fw2': 'IGWFRQAPGKEREGVS',\n",
    "               'CDR2': 'CISSR---GSST', 'Fw3': 'NYADSVKGRFIISRDNVKNTVYLQMNSLEPEDTAVYYCAA',\n",
    "               'CDR3': 'IYQPSNGC--------VLRPEYSY', 'Fw4': 'WGKGTPVTVSS'},\n",
    "    '7qbe_E': {'Fw1': 'QLQLVESGGGLVQAGGSLRLSC', 'CDR1': 'TA-SGRTG----T', 'Fw2': 'MGWFRQGPGKEREFVA',\n",
    "               'CDR2': 'SHKWV---AGST', 'Fw3': 'YYADSVKGRFTISRDNAKNTLYLQMNSLKSEDTAVYYCAA',\n",
    "               'CDR3': 'SSQIFYGA-------TTSIKDFNS', 'Fw4': 'WGKGTRVTVSS'},\n",
    "    '7t5f_B': {'Fw1': 'QVQLVESGGGLVQPGGSLRLSC', 'CDR1': 'AA-SGFPFHA-YY', 'Fw2': 'MSWVRQAPGKGLEWVS',\n",
    "               'CDR2': 'HIGNG---GIIT', 'Fw3': 'RYADSVKGRFTISRDNAKNTLYLQMTNLKPEDTALYYCTL',\n",
    "               'CDR3': 'GTRD---------------DLGPE', 'Fw4': 'RGQGTQVTVSS'},\n",
    "    '7lzp_B': {'Fw1': 'QVQLVETGGGLVQAGDSLTLSC', 'CDR1': 'AA-TGRTLDY-YA', 'Fw2': 'LGWFRQVPGNKREFVA',\n",
    "               'CDR2': 'AINWL---GGST', 'Fw3': 'YYADSVRGRFTLSRDNSKSTLYLNMNNLIPDDTAVYYCAA',\n",
    "               'CDR3': 'DFSIAYSGTY---PPAYAEYDYDY', 'Fw4': 'WGQGTQVTVSS'},\n",
    "    '7na9_D': {'Fw1': 'QVQLVESGGGLVQTGGSLRLSC', 'CDR1': 'AA-SGRTFRR-NT', 'Fw2': 'MGWFRQAPGKVREFVA',\n",
    "               'CDR2': 'AISWS---GDRT', 'Fw3': 'YCADSVKGRFTISRDNAKNTVDLLMNSLKPEDTAIYYCAA',\n",
    "               'CDR3': 'DGTASVFNSY----ASADRNKYNY', 'Fw4': 'WGQGTQVTVSS'},\n",
    "    '7s2r_B': {'Fw1': 'QVQLQESGGGSVQAGGSLRLSC', 'CDR1': 'AA-SGYTYRD-YY', 'Fw2': 'MGWFRQAPGREREGVA',\n",
    "               'CDR2': 'SIYTRGSREGST', 'Fw3': 'RYSSSVEGRFTITLDTAKNTLYLQMNSLKPEDTAMYYCAA',\n",
    "               'CDR3': 'DDRTWLPRVQ---LGGPRENEYNY', 'Fw4': 'WGQGTQVTVSS'},\n",
    "    '7b2p_D': {'Fw1': 'EVQLVESGGGLVQPGGSLRLSC', 'CDR1': 'AA-SGFTFSS-YH', 'Fw2': 'MSWVRQAPGKGLEWIS',\n",
    "               'CDR2': 'VINDS---GDLT', 'Fw3': 'RYADSVKGRFTISRDNAKNTLYLQMNSLQPEDTAVYSCLK',\n",
    "               'CDR3': 'SSDFYS------------YSNADS', 'Fw4': 'RGQGTQVTVSS'},\n",
    "    '7r74_B': {'Fw1': 'AVQLVDSGGGLVQAGGSLRLSC', 'CDR1': 'VV-SGSIFSI-NA', 'Fw2': 'MGWYRQAPGKQRDLVA',\n",
    "               'CDR2': 'RISG----DSST', 'Fw3': 'YYIDSVKGRFTISRDNAANTVYLQMNSLKPEDTAVYYCAA',\n",
    "               'CDR3': 'RRLPI--------------GDYTD', 'Fw4': 'WGQGTQVTVSS'},\n",
    "    '7p5y_G': {'Fw1': 'QVQLVESGGGLVQAGGSLRLSC', 'CDR1': 'AA-SGFPVMN-AG', 'Fw2': 'MYWYRQAPGKEREWVA',\n",
    "               'CDR2': 'AIESE---GTST', 'Fw3': 'YYADSVKGRFTISRDNAKNTVYLQMNSLKPEDTAVYYCNV',\n",
    "               'CDR3': 'KDVGDN------------HFPYDY', 'Fw4': 'WGQGTQVTVSA'},\n",
    "    '7qiv_C': {'Fw1': 'QVQLVETGGGLVQAGGSLRLSC', 'CDR1': 'AA-SGSIFSI-NA', 'Fw2': 'MGWFRQAPGKEREFVA',\n",
    "               'CDR2': 'TINRS---GGRT', 'Fw3': 'YYADSVKGRFTISRDNGKNMVYLQMHSLKPEDTAIYYCAA',\n",
    "               'CDR3': 'GTGWSPQ----------TDNEYNY', 'Fw4': 'WGQGTQVTVSS'},\n",
    "    '7r98_D': {'Fw1': 'EVQLQASGGGLVQAGDSLRLSC', 'CDR1': 'VAVSGRTIST-FA', 'Fw2': 'MGWFRQAPGKEREFVA',\n",
    "               'CDR2': 'TINWS---GSSA', 'Fw3': 'RYADPVEGRFTISRDDAKNTVYLEMSSLKPGDSAVYYCAS',\n",
    "               'CDR3': 'GRYLGGIT-------SYSQGDFAP', 'Fw4': 'WGQGTQVTVSS'},\n",
    "    '7r20_B': {'Fw1': 'EVQLQESGGGLVQAGGSLRLSC', 'CDR1': 'AA-SGSIFSG-NA', 'Fw2': 'MGWYRQAPGKQREVVA',\n",
    "               'CDR2': 'VISA----GNSS', 'Fw3': 'NYVDSVKGRFTISRDNAKNTVYLQMNSLKPEDTAVYYCNV',\n",
    "               'CDR3': 'VKRGP--------------QWGME', 'Fw4': 'WGKGTLVTVSS'},\n",
    "    '7czd_A': {'Fw1': 'EVQLQESGGGLVQPGGSLRLSC', 'CDR1': 'AA-SGFTFSS-YW', 'Fw2': 'MYWLRQAPGKGLEWVS',\n",
    "               'CDR2': 'SINSD---SSST', 'Fw3': 'YYRDSVKGRFTISRDNAKNTLYLQMNSLKSEDTAVYYCAK',\n",
    "               'CDR3': 'DPG------------------GYA', 'Fw4': 'KGQGTQVTVSS'},\n",
    "    '7tpr_F': {'Fw1': 'QVQLVESGGGSVQPGGSLRLSC', 'CDR1': 'VV-SGYTSSS-RY', 'Fw2': 'MGWFRQVPGKGLEWVS',\n",
    "               'CDR2': 'GIKRD---GTNT', 'Fw3': 'YYADSVKGRFTISQDNAKNTVYLQMNSLKPEDTAMYYCAA',\n",
    "               'CDR3': 'GSWYNQ-----------WGYSMDY', 'Fw4': 'WGKGTQVTVSS'},\n",
    "    '7e53_B': {'Fw1': 'QVQLQESGGGSVQAGGSLRLSC', 'CDR1': 'AA-SGPTYSS-YF', 'Fw2': 'MAWFRQAPGMEREGVA',\n",
    "               'CDR2': 'ASSYD---GSTT', 'Fw3': 'LYADSVKGRFTISQGNAKNTKFLLLNNLEPEDTAIYYCAL',\n",
    "               'CDR3': 'RRRGWSNTS-----GWKQPGWYDY', 'Fw4': 'WGQGTQVTVSS'},\n",
    "    '7f5g_B': {'Fw1': 'QVQLQESGGGLVQPGGSLRLSC', 'CDR1': 'AA-SGSFFEF-GT', 'Fw2': 'VGWFRQAPGKQRELVS',\n",
    "               'CDR2': 'RITG----NDHR', 'Fw3': 'YYADSVKGRFTISRDNDETTVYLQMDSLKPEDTAIYHCNI',\n",
    "               'CDR3': 'LEGQ---------------RWSNY', 'Fw4': 'WGQGTQVTVSA'},\n",
    "    '7zfb_M': {'Fw1': 'QVQLVESGGGLVQPGGSLRLSC', 'CDR1': 'AA-SGFTNDF-YS', 'Fw2': 'IAWFRQAPGKEREGVS',\n",
    "               'CDR2': 'WLSVS---DNTP', 'Fw3': 'TYVDSVKDRFTISRHNANNTVYLQMNMLKPEDTAIYYCAA',\n",
    "               'CDR3': 'GRFAGRD---------TWPSSYDY', 'Fw4': 'WGQGTQVTVSS'},\n",
    "    '7ndf_C': {'Fw1': 'QMQLVESGGGLVQAGGSLRLSC', 'CDR1': 'AV-SGSIFSI-IT', 'Fw2': 'LAWYRQAPGKPRENVA',\n",
    "               'CDR2': 'TITR----GSRT', 'Fw3': 'SYADSVKGRFTISKDNAKSTVYLQMNKLKPEDTADYYCNA',\n",
    "               'CDR3': 'EGP------------------AGY', 'Fw4': 'WGQGTPVTVS'},\n",
    "    '7t5f_C': {'Fw1': 'QVQLVESGGGLVQSGGSLRLSC', 'CDR1': 'AA-SGSIDSL-YH', 'Fw2': 'MGWYRQAPGKERELVA',\n",
    "               'CDR2': 'RVQD----GGST', 'Fw3': 'AYKDSVKGRFTISRDFSRSTMYLQMNSLKPEDTAIYYCAA',\n",
    "               'CDR3': 'KSTI---------------STPLS', 'Fw4': 'WGQGTQVTVSS'},\n",
    "    '7ngh_D': {'Fw1': 'QVQLVESGGGLVQAGGSLRLSC', 'CDR1': 'AA-SGFPVDS-QF', 'Fw2': 'MHWYRQAPGKEREWVA',\n",
    "               'CDR2': 'AIESY---GDET', 'Fw3': 'YYADSVKGRFTISRDNAKNTVYLQMNSLKPEDTAVYYCRV',\n",
    "               'CDR3': 'LVG------------------WGY', 'Fw4': 'YGQGTQVTVSA'},\n",
    "    '7rnn_C': {'Fw1': 'QVQLVESGGGLVQPRGSLRLSC', 'CDR1': 'AA-SGFTFSR-AA', 'Fw2': 'MSWYRQAPGKEREMVS',\n",
    "               'CDR2': 'TIGSF---GVST', 'Fw3': 'NYSDSVKGRFTISRDNAKNTVYLHMNSLKPEDTAVYYCNA',\n",
    "               'CDR3': 'RYR-----------------SSYP', 'Fw4': 'WGQGTQVTVSS'},\n",
    "    '7z1a_E': {'Fw1': 'QVQLVESGGGLMQAGGSLRLSC', 'CDR1': 'AV-SGRTFST-AA', 'Fw2': 'MGWFRQAPGKEREFVA',\n",
    "               'CDR2': 'AIRWS---GGSA', 'Fw3': 'YYADSVKGRFTISRDKAKNTVYLQMNSLKYEDTAVYYCAQ',\n",
    "               'CDR3': 'TRVTRSLLS------DYATWPYDY', 'Fw4': 'WGQGTQVTVSS'},\n",
    "    '7apj_B': {'Fw1': 'QVQLVESGGGLVQAGGSLRLSC', 'CDR1': 'AA-SGIDVRI-KT', 'Fw2': 'MAWYRQAPGKQRELLA',\n",
    "               'CDR2': 'SVLV----SGST', 'Fw3': 'NYADPVKGRFTISRDNAKNTVYLQMNKLIPDDTAVYYCNT',\n",
    "               'CDR3': 'YGRL----------------RRDV', 'Fw4': 'WGPGTQVTVSS'},\n",
    "    '7lzp_G': {'Fw1': 'QVQLVETGGALVQPGQSLTLSC', 'CDR1': 'TT-SENVFGI-YG', 'Fw2': 'MAWLRQAPGRQRELVA',\n",
    "               'CDR2': 'SITS----RGTA', 'Fw3': 'HYHDSVKGRFTISRESGKTTAYLQTTSVNPEDTAIYYCNS',\n",
    "               'CDR3': 'G---------------------PY', 'Fw4': 'WGQGTQVTVSS'},\n",
    "    '7nfq_C': {'Fw1': 'QVQLQESGGGLVQPGGSLRLSC', 'CDR1': 'AA-SGFTFKM-YA', 'Fw2': 'MSWVRQAPGKGLEWVS',\n",
    "               'CDR2': 'SINSA---GGST', 'Fw3': 'SYVDSVKGRFTISRDNAKNTLYLQMNSLKPDDTAVYYCVQ',\n",
    "               'CDR3': 'GRNW----------------PYDY', 'Fw4': 'RGQGTQVTVSS'},\n",
    "    '7ooi_A': {'Fw1': 'EVQLVESGGGLVQPGRSLRLSC', 'CDR1': 'AA-SGFDIDY-YS', 'Fw2': 'IGWVRRAPGKGEELVA',\n",
    "               'CDR2': 'RIYPS---SSST', 'Fw3': 'SYADSVKGRFTISADTSKNTAYLQMNSLRAEDTAVYYCAR',\n",
    "               'CDR3': 'WHWAYSAW--------PGWYGMDY', 'Fw4': 'WGQGTLVTVSS'},\n",
    "    '7nqk_B': {'Fw1': 'QVQLVESGGGLVQPGGSLRLLC', 'CDR1': 'VA-SGRPFND-YD', 'Fw2': 'MGWFRQAPGKEREFVA',\n",
    "               'CDR2': 'SISWS---GRVT', 'Fw3': 'DYSDSMKGRCTVSRDNAKGTMFLQMSNLVPRDTAVYYCAA',\n",
    "               'CDR3': 'ARRRWTFKA------TNTEEFYET', 'Fw4': 'WGQGTQVTVSS'},\n",
    "    '7djx_A': {'Fw1': 'QVQLVESGGGLVQAGGSLRLSC', 'CDR1': 'AA-SGRTFSS-YA', 'Fw2': 'MGWFRQAPGKERECVA',\n",
    "               'CDR2': 'AMDWS---TSAT', 'Fw3': 'YYADSVKGRFTISRDNAKNTVYLQMNSLKPEDTAVYYCAA',\n",
    "               'CDR3': 'DLDYSDYG--------PFPGDMDY', 'Fw4': 'WGKGTQVTVSS'},\n",
    "    '7pqg_B': {'Fw1': 'QVQLVESGGGLVQAGGSLRLSC', 'CDR1': 'AV-SGRTTAN-YN', 'Fw2': 'MGWFRQAPGKEREFVA',\n",
    "               'CDR2': 'GIKWS---SGST', 'Fw3': 'YVADSAKGRFTISRDNAKNSVYLQMDSLKPEDTALYYCAA',\n",
    "               'CDR3': 'NYYGVSWF-------LISPSSYDY', 'Fw4': 'WGQGTQVTVSS'},\n",
    "    '7djy_A': {'Fw1': 'QVQLVESGGGLVQAGGSLRLSC', 'CDR1': 'AA-SGATFIT-YG', 'Fw2': 'MTWFRQAPGKEREFVA',\n",
    "               'CDR2': 'AVTGN---GAGT', 'Fw3': 'TYLPSVKGRFTISRDNAKNTVYLQMSSLKPEDTAVYYCGG',\n",
    "               'CDR3': 'RRWVPAT----------AVDQVAY', 'Fw4': 'WGQGTQVTVSS'},\n",
    "    '7vfb_B': {'Fw1': 'QVQLQESGGGSVQAGGSLRLSC', 'CDR1': 'AV-SGYTYSS-KC', 'Fw2': 'LGWFRQAPGKEREGIA',\n",
    "               'CDR2': 'TIYTG---GGST', 'Fw3': 'YYVDSVKGRFTISQDNAKNTVALQMNSLKPEDTAMYYCAA',\n",
    "               'CDR3': 'SGAIAGIRL-----CLPGHTFYTY', 'Fw4': 'WGQGTQVTVSS'},\n",
    "    '7r4r_D': {'Fw1': 'QVQLVESGGGSVQAGGSLRLSC', 'CDR1': 'AA-SGYTYST-CR', 'Fw2': 'KGWYRQAPGKERELVA',\n",
    "               'CDR2': 'SITA----DGAT', 'Fw3': 'YYLDSVKGRLTISQDNAKNTVYLQMNSLKPEDTAVYYCAA',\n",
    "               'CDR3': 'SVKDF-------------TCTFNS', 'Fw4': 'WGQGTQVTVSS'},\n",
    "    '7r4q_D': {'Fw1': 'QVQLVESGGGSVQAGGSLRLSC', 'CDR1': 'AA-SGYTINT-DA', 'Fw2': 'VAWFRQAPGKGDERVA',\n",
    "               'CDR2': 'VIYTG---SGNT', 'Fw3': 'NYADSVKGRFTISQDNAKNTVYLQMNSLKPEDTALYYCAS',\n",
    "               'CDR3': 'GYYGAS------------GYDFNN', 'Fw4': 'WGQGTQVTVSS'}\n",
    "}"
   ],
   "metadata": {
    "collapsed": false
   }
  },
  {
   "cell_type": "code",
   "execution_count": 55,
   "outputs": [
    {
     "data": {
      "text/plain": "         model  Number of residues in common  global rmsd  TM-score  \\\n7d8b_B      IF                           132        6.074    0.8480   \n7d8b_B   ESMem                           132        3.830    0.8837   \n7d8b_B    AF2m                           132        3.054    0.8869   \n7d8b_B     ESM                           132        3.664    0.8940   \n7d8b_B  AF2r10                           132        3.734    0.8878   \n...        ...                           ...          ...       ...   \n7z1b_E    YSem                           127        2.228    0.8690   \n7z1b_E  AF2r10                           127        1.560    0.9251   \n7z1b_E    OFr4                           127        1.766    0.9220   \n7z1b_E     AF2                           127        1.455    0.9304   \n7z1b_E   AF2em                           127        1.519    0.9173   \n\n        MaxSub-score  GDT-TS-score  GDT-TS-score %(d<1)  GDT-TS-score %(d<2)  \\\n7d8b_B        0.8231        0.8409               0.7500               0.8409   \n7d8b_B        0.8538        0.8731               0.7576               0.8864   \n7d8b_B        0.8523        0.8920               0.8030               0.8788   \n7d8b_B        0.8695        0.8883               0.8030               0.8939   \n7d8b_B        0.8608        0.8788               0.7879               0.8712   \n...              ...           ...                  ...                  ...   \n7z1b_E        0.8099        0.8307               0.5512               0.8346   \n7z1b_E        0.8880        0.9154               0.7953               0.8898   \n7z1b_E        0.8813        0.9252               0.8504               0.8898   \n7z1b_E        0.8930        0.9232               0.8031               0.8976   \n7z1b_E        0.8780        0.8996               0.7480               0.8740   \n\n        GDT-TS-score %(d<4)  GDT-TS-score %(d<8)  GDT-HA-score  \\\n7d8b_B               0.8712               0.9015        0.7557   \n7d8b_B               0.9091               0.9394        0.7689   \n7d8b_B               0.8939               0.9924        0.8049   \n7d8b_B               0.9091               0.9470        0.8087   \n7d8b_B               0.9091               0.9470        0.7936   \n...                     ...                  ...           ...   \n7z1b_E               0.9370               1.0000        0.6339   \n7z1b_E               0.9764               1.0000        0.8209   \n7z1b_E               0.9606               1.0000        0.8425   \n7z1b_E               0.9921               1.0000        0.8327   \n7z1b_E               0.9764               1.0000        0.7559   \n\n        GDT-HA-score %(d<0.5)  GDT-HA-score %(d<1)  GDT-HA-score %(d<2)  \\\n7d8b_B                 0.5606               0.7500               0.8409   \n7d8b_B                 0.5227               0.7576               0.8864   \n7d8b_B                 0.6439               0.8030               0.8788   \n7d8b_B                 0.6288               0.8030               0.8939   \n7d8b_B                 0.6061               0.7879               0.8712   \n...                       ...                  ...                  ...   \n7z1b_E                 0.2126               0.5512               0.8346   \n7z1b_E                 0.6220               0.7953               0.8898   \n7z1b_E                 0.6693               0.8504               0.8898   \n7z1b_E                 0.6378               0.8031               0.8976   \n7z1b_E                 0.4252               0.7480               0.8740   \n\n        GDT-HA-score %(d<4)  TM-score Superposition Length(d<5.0)  CDR3 length  \n7d8b_B               0.8712                                   113           24  \n7d8b_B               0.9091                                   119           24  \n7d8b_B               0.8939                                   118           24  \n7d8b_B               0.9091                                   119           24  \n7d8b_B               0.9091                                   120           24  \n...                     ...                                   ...          ...  \n7z1b_E               0.9370                                   121           18  \n7z1b_E               0.9764                                   123           18  \n7z1b_E               0.9606                                   119           18  \n7z1b_E               0.9921                                   125           18  \n7z1b_E               0.9764                                   124           18  \n\n[1432 rows x 17 columns]",
      "text/html": "<div>\n<style scoped>\n    .dataframe tbody tr th:only-of-type {\n        vertical-align: middle;\n    }\n\n    .dataframe tbody tr th {\n        vertical-align: top;\n    }\n\n    .dataframe thead th {\n        text-align: right;\n    }\n</style>\n<table border=\"1\" class=\"dataframe\">\n  <thead>\n    <tr style=\"text-align: right;\">\n      <th></th>\n      <th>model</th>\n      <th>Number of residues in common</th>\n      <th>global rmsd</th>\n      <th>TM-score</th>\n      <th>MaxSub-score</th>\n      <th>GDT-TS-score</th>\n      <th>GDT-TS-score %(d&lt;1)</th>\n      <th>GDT-TS-score %(d&lt;2)</th>\n      <th>GDT-TS-score %(d&lt;4)</th>\n      <th>GDT-TS-score %(d&lt;8)</th>\n      <th>GDT-HA-score</th>\n      <th>GDT-HA-score %(d&lt;0.5)</th>\n      <th>GDT-HA-score %(d&lt;1)</th>\n      <th>GDT-HA-score %(d&lt;2)</th>\n      <th>GDT-HA-score %(d&lt;4)</th>\n      <th>TM-score Superposition Length(d&lt;5.0)</th>\n      <th>CDR3 length</th>\n    </tr>\n  </thead>\n  <tbody>\n    <tr>\n      <th>7d8b_B</th>\n      <td>IF</td>\n      <td>132</td>\n      <td>6.074</td>\n      <td>0.8480</td>\n      <td>0.8231</td>\n      <td>0.8409</td>\n      <td>0.7500</td>\n      <td>0.8409</td>\n      <td>0.8712</td>\n      <td>0.9015</td>\n      <td>0.7557</td>\n      <td>0.5606</td>\n      <td>0.7500</td>\n      <td>0.8409</td>\n      <td>0.8712</td>\n      <td>113</td>\n      <td>24</td>\n    </tr>\n    <tr>\n      <th>7d8b_B</th>\n      <td>ESMem</td>\n      <td>132</td>\n      <td>3.830</td>\n      <td>0.8837</td>\n      <td>0.8538</td>\n      <td>0.8731</td>\n      <td>0.7576</td>\n      <td>0.8864</td>\n      <td>0.9091</td>\n      <td>0.9394</td>\n      <td>0.7689</td>\n      <td>0.5227</td>\n      <td>0.7576</td>\n      <td>0.8864</td>\n      <td>0.9091</td>\n      <td>119</td>\n      <td>24</td>\n    </tr>\n    <tr>\n      <th>7d8b_B</th>\n      <td>AF2m</td>\n      <td>132</td>\n      <td>3.054</td>\n      <td>0.8869</td>\n      <td>0.8523</td>\n      <td>0.8920</td>\n      <td>0.8030</td>\n      <td>0.8788</td>\n      <td>0.8939</td>\n      <td>0.9924</td>\n      <td>0.8049</td>\n      <td>0.6439</td>\n      <td>0.8030</td>\n      <td>0.8788</td>\n      <td>0.8939</td>\n      <td>118</td>\n      <td>24</td>\n    </tr>\n    <tr>\n      <th>7d8b_B</th>\n      <td>ESM</td>\n      <td>132</td>\n      <td>3.664</td>\n      <td>0.8940</td>\n      <td>0.8695</td>\n      <td>0.8883</td>\n      <td>0.8030</td>\n      <td>0.8939</td>\n      <td>0.9091</td>\n      <td>0.9470</td>\n      <td>0.8087</td>\n      <td>0.6288</td>\n      <td>0.8030</td>\n      <td>0.8939</td>\n      <td>0.9091</td>\n      <td>119</td>\n      <td>24</td>\n    </tr>\n    <tr>\n      <th>7d8b_B</th>\n      <td>AF2r10</td>\n      <td>132</td>\n      <td>3.734</td>\n      <td>0.8878</td>\n      <td>0.8608</td>\n      <td>0.8788</td>\n      <td>0.7879</td>\n      <td>0.8712</td>\n      <td>0.9091</td>\n      <td>0.9470</td>\n      <td>0.7936</td>\n      <td>0.6061</td>\n      <td>0.7879</td>\n      <td>0.8712</td>\n      <td>0.9091</td>\n      <td>120</td>\n      <td>24</td>\n    </tr>\n    <tr>\n      <th>...</th>\n      <td>...</td>\n      <td>...</td>\n      <td>...</td>\n      <td>...</td>\n      <td>...</td>\n      <td>...</td>\n      <td>...</td>\n      <td>...</td>\n      <td>...</td>\n      <td>...</td>\n      <td>...</td>\n      <td>...</td>\n      <td>...</td>\n      <td>...</td>\n      <td>...</td>\n      <td>...</td>\n      <td>...</td>\n    </tr>\n    <tr>\n      <th>7z1b_E</th>\n      <td>YSem</td>\n      <td>127</td>\n      <td>2.228</td>\n      <td>0.8690</td>\n      <td>0.8099</td>\n      <td>0.8307</td>\n      <td>0.5512</td>\n      <td>0.8346</td>\n      <td>0.9370</td>\n      <td>1.0000</td>\n      <td>0.6339</td>\n      <td>0.2126</td>\n      <td>0.5512</td>\n      <td>0.8346</td>\n      <td>0.9370</td>\n      <td>121</td>\n      <td>18</td>\n    </tr>\n    <tr>\n      <th>7z1b_E</th>\n      <td>AF2r10</td>\n      <td>127</td>\n      <td>1.560</td>\n      <td>0.9251</td>\n      <td>0.8880</td>\n      <td>0.9154</td>\n      <td>0.7953</td>\n      <td>0.8898</td>\n      <td>0.9764</td>\n      <td>1.0000</td>\n      <td>0.8209</td>\n      <td>0.6220</td>\n      <td>0.7953</td>\n      <td>0.8898</td>\n      <td>0.9764</td>\n      <td>123</td>\n      <td>18</td>\n    </tr>\n    <tr>\n      <th>7z1b_E</th>\n      <td>OFr4</td>\n      <td>127</td>\n      <td>1.766</td>\n      <td>0.9220</td>\n      <td>0.8813</td>\n      <td>0.9252</td>\n      <td>0.8504</td>\n      <td>0.8898</td>\n      <td>0.9606</td>\n      <td>1.0000</td>\n      <td>0.8425</td>\n      <td>0.6693</td>\n      <td>0.8504</td>\n      <td>0.8898</td>\n      <td>0.9606</td>\n      <td>119</td>\n      <td>18</td>\n    </tr>\n    <tr>\n      <th>7z1b_E</th>\n      <td>AF2</td>\n      <td>127</td>\n      <td>1.455</td>\n      <td>0.9304</td>\n      <td>0.8930</td>\n      <td>0.9232</td>\n      <td>0.8031</td>\n      <td>0.8976</td>\n      <td>0.9921</td>\n      <td>1.0000</td>\n      <td>0.8327</td>\n      <td>0.6378</td>\n      <td>0.8031</td>\n      <td>0.8976</td>\n      <td>0.9921</td>\n      <td>125</td>\n      <td>18</td>\n    </tr>\n    <tr>\n      <th>7z1b_E</th>\n      <td>AF2em</td>\n      <td>127</td>\n      <td>1.519</td>\n      <td>0.9173</td>\n      <td>0.8780</td>\n      <td>0.8996</td>\n      <td>0.7480</td>\n      <td>0.8740</td>\n      <td>0.9764</td>\n      <td>1.0000</td>\n      <td>0.7559</td>\n      <td>0.4252</td>\n      <td>0.7480</td>\n      <td>0.8740</td>\n      <td>0.9764</td>\n      <td>124</td>\n      <td>18</td>\n    </tr>\n  </tbody>\n</table>\n<p>1432 rows × 17 columns</p>\n</div>"
     },
     "execution_count": 55,
     "metadata": {},
     "output_type": "execute_result"
    }
   ],
   "source": [
    "frag_pos = {'CDR1': [23, 36], 'CDR2': [52, 63], 'CDR3': [102, 127]}\n",
    "models_df['CDR3 length'] = [len(aho_align[x]['CDR3'].replace('-', '')) for x in models_df.index]\n",
    "models_df.to_csv('models_metrics_origin.csv')\n",
    "models_df"
   ],
   "metadata": {
    "collapsed": false
   }
  },
  {
   "cell_type": "code",
   "execution_count": 56,
   "outputs": [
    {
     "data": {
      "text/plain": "  0%|          | 0/75 [00:00<?, ?it/s]",
      "application/vnd.jupyter.widget-view+json": {
       "version_major": 2,
       "version_minor": 0,
       "model_id": "b5dc4fdf5cc842e4a6c0f6cdd45214c2"
      }
     },
     "metadata": {},
     "output_type": "display_data"
    }
   ],
   "source": [
    "import itertools\n",
    "seq_length = 138\n",
    "\n",
    "conf_pos = {}\n",
    "atoms_dist = {}\n",
    "for pdb in tqdm(aho_align):\n",
    "    len_seq_res = len(''.join(aho_align[pdb].values()).replace('-', '').strip())\n",
    "    pdb_ref = parmed.load_file(aligned_results_folder.joinpath(f'{pdb}/{pdb}.pdb').as_posix())\n",
    "    atoms_dist[pdb] = {}\n",
    "    conf_pos[pdb] = {}\n",
    "    for m in models_df['model'].unique():\n",
    "        if not aligned_results_folder.joinpath(f'{pdb}/{m}/{pdb}_{m}_sup.pdb').exists():\n",
    "            continue\n",
    "        pdbm = parmed.load_file(aligned_results_folder.joinpath(f'{pdb}/{m}/{pdb}_{m}_sup.pdb').as_posix())\n",
    "        atoms_dist[pdb][m] = {}\n",
    "        if m in ['AF2', 'AF2r10', 'AF2m', 'OF', 'OFr4', 'OFr20', 'IF', 'YS', 'ESM']:\n",
    "            conf_pos[pdb][m] = {}\n",
    "        for r in pdbm.residues[:-1]:\n",
    "            for r1 in pdb_ref.residues:\n",
    "                if r.number == r1.number and r.name == r1.name:\n",
    "                    atoms_dist[pdb][m][r] = {}\n",
    "                    if m in ['AF2', 'AF2r10', 'AF2m', 'OF', 'OFr4', 'OFr20', 'IF', 'YS', 'ESM']:\n",
    "                      conf_pos[pdb][m][r] = r.atoms[0].bfactor * 100 if m == 'ESM' else r.atoms[0].bfactor\n",
    "                    for at, at1 in itertools.product(r1.atoms, r.atoms):\n",
    "                        if 'H' in at.name:\n",
    "                            continue\n",
    "                        if at.name == at1.name:\n",
    "                            d = [round(at.xx - at1.xx, 3), round(at.xy - at1.xy, 3), round(at.xz - at1.xz, 3)]\n",
    "                            atoms_dist[pdb][m][r][at] = d\n",
    "                    break"
   ],
   "metadata": {
    "collapsed": false
   }
  },
  {
   "cell_type": "code",
   "execution_count": 57,
   "outputs": [
    {
     "data": {
      "text/plain": "  0%|          | 0/75 [00:00<?, ?it/s]",
      "application/vnd.jupyter.widget-view+json": {
       "version_major": 2,
       "version_minor": 0,
       "model_id": "0e27873c523349ccabf7ffd7ae637b73"
      }
     },
     "metadata": {},
     "output_type": "display_data"
    },
    {
     "data": {
      "text/plain": "        PDB   model      1      2      3      4      5      6      7      8  \\\n0    7n9c_D      IF   2.02   0.54   0.25   0.14   0.14   0.13   0.16   0.22   \n1    7n9c_D     ESM  76.00  82.00  88.00  90.00  93.00  95.00  95.00  95.00   \n2    7n9c_D  AF2r10  80.80  88.17  94.86  97.31  97.96  98.44  98.22  97.45   \n3    7n9c_D      OF  76.94  83.96  91.30  93.86  95.41  95.58  96.15  95.06   \n4    7n9c_D     AF2  78.50  86.64  93.97  96.61  97.69  98.37  98.10  96.99   \n..      ...     ...    ...    ...    ...    ...    ...    ...    ...    ...   \n636  7r4q_D      OF  83.75  88.99  94.28  96.47  97.32  97.67  97.69  97.25   \n637  7r4q_D     AF2  80.19  85.64  92.85  94.88  96.86  98.05  97.89  96.09   \n638  7r4q_D   OFr20  83.28  89.16  94.85  96.71  97.41  97.66  97.64  97.18   \n639  7r4q_D      YS  78.86  83.45  89.30  90.40  91.30  90.30  91.55  90.90   \n640  7r4q_D    OFr4  82.05  86.76  92.98  95.72  96.81  97.26  97.11  96.54   \n\n     ...    129    130    131    132    133    134    135    136    137  138  \n0    ...   0.25   0.26   0.22   0.21   0.21   0.18   0.19   0.24   0.46  NaN  \n1    ...  90.00  92.00  93.00  95.00  95.00  96.00  95.00  95.00  92.00  NaN  \n2    ...  96.65  96.70  97.93  98.50  98.24  98.63  98.45  98.27  96.13  NaN  \n3    ...  94.21  95.60  96.02  97.07  97.62  97.57  97.53  97.42  95.90  NaN  \n4    ...  95.99  96.14  97.76  98.45  98.18  98.57  98.37  98.12  95.63  NaN  \n..   ...    ...    ...    ...    ...    ...    ...    ...    ...    ...  ...  \n636  ...  95.64  96.05  96.82  98.15  98.24  98.40  98.32  98.29  97.34  NaN  \n637  ...  94.98  95.21  97.15  98.28  97.87  98.34  98.15  97.92  96.21  NaN  \n638  ...  96.17  96.49  96.92  98.13  98.19  98.38  98.29  98.26  97.24  NaN  \n639  ...  86.23  88.90  89.26  90.33  92.10  92.24  93.80  92.72  92.10  NaN  \n640  ...  94.90  95.17  96.21  97.81  97.98  98.21  98.12  98.12  97.03  NaN  \n\n[641 rows x 140 columns]",
      "text/html": "<div>\n<style scoped>\n    .dataframe tbody tr th:only-of-type {\n        vertical-align: middle;\n    }\n\n    .dataframe tbody tr th {\n        vertical-align: top;\n    }\n\n    .dataframe thead th {\n        text-align: right;\n    }\n</style>\n<table border=\"1\" class=\"dataframe\">\n  <thead>\n    <tr style=\"text-align: right;\">\n      <th></th>\n      <th>PDB</th>\n      <th>model</th>\n      <th>1</th>\n      <th>2</th>\n      <th>3</th>\n      <th>4</th>\n      <th>5</th>\n      <th>6</th>\n      <th>7</th>\n      <th>8</th>\n      <th>...</th>\n      <th>129</th>\n      <th>130</th>\n      <th>131</th>\n      <th>132</th>\n      <th>133</th>\n      <th>134</th>\n      <th>135</th>\n      <th>136</th>\n      <th>137</th>\n      <th>138</th>\n    </tr>\n  </thead>\n  <tbody>\n    <tr>\n      <th>0</th>\n      <td>7n9c_D</td>\n      <td>IF</td>\n      <td>2.02</td>\n      <td>0.54</td>\n      <td>0.25</td>\n      <td>0.14</td>\n      <td>0.14</td>\n      <td>0.13</td>\n      <td>0.16</td>\n      <td>0.22</td>\n      <td>...</td>\n      <td>0.25</td>\n      <td>0.26</td>\n      <td>0.22</td>\n      <td>0.21</td>\n      <td>0.21</td>\n      <td>0.18</td>\n      <td>0.19</td>\n      <td>0.24</td>\n      <td>0.46</td>\n      <td>NaN</td>\n    </tr>\n    <tr>\n      <th>1</th>\n      <td>7n9c_D</td>\n      <td>ESM</td>\n      <td>76.00</td>\n      <td>82.00</td>\n      <td>88.00</td>\n      <td>90.00</td>\n      <td>93.00</td>\n      <td>95.00</td>\n      <td>95.00</td>\n      <td>95.00</td>\n      <td>...</td>\n      <td>90.00</td>\n      <td>92.00</td>\n      <td>93.00</td>\n      <td>95.00</td>\n      <td>95.00</td>\n      <td>96.00</td>\n      <td>95.00</td>\n      <td>95.00</td>\n      <td>92.00</td>\n      <td>NaN</td>\n    </tr>\n    <tr>\n      <th>2</th>\n      <td>7n9c_D</td>\n      <td>AF2r10</td>\n      <td>80.80</td>\n      <td>88.17</td>\n      <td>94.86</td>\n      <td>97.31</td>\n      <td>97.96</td>\n      <td>98.44</td>\n      <td>98.22</td>\n      <td>97.45</td>\n      <td>...</td>\n      <td>96.65</td>\n      <td>96.70</td>\n      <td>97.93</td>\n      <td>98.50</td>\n      <td>98.24</td>\n      <td>98.63</td>\n      <td>98.45</td>\n      <td>98.27</td>\n      <td>96.13</td>\n      <td>NaN</td>\n    </tr>\n    <tr>\n      <th>3</th>\n      <td>7n9c_D</td>\n      <td>OF</td>\n      <td>76.94</td>\n      <td>83.96</td>\n      <td>91.30</td>\n      <td>93.86</td>\n      <td>95.41</td>\n      <td>95.58</td>\n      <td>96.15</td>\n      <td>95.06</td>\n      <td>...</td>\n      <td>94.21</td>\n      <td>95.60</td>\n      <td>96.02</td>\n      <td>97.07</td>\n      <td>97.62</td>\n      <td>97.57</td>\n      <td>97.53</td>\n      <td>97.42</td>\n      <td>95.90</td>\n      <td>NaN</td>\n    </tr>\n    <tr>\n      <th>4</th>\n      <td>7n9c_D</td>\n      <td>AF2</td>\n      <td>78.50</td>\n      <td>86.64</td>\n      <td>93.97</td>\n      <td>96.61</td>\n      <td>97.69</td>\n      <td>98.37</td>\n      <td>98.10</td>\n      <td>96.99</td>\n      <td>...</td>\n      <td>95.99</td>\n      <td>96.14</td>\n      <td>97.76</td>\n      <td>98.45</td>\n      <td>98.18</td>\n      <td>98.57</td>\n      <td>98.37</td>\n      <td>98.12</td>\n      <td>95.63</td>\n      <td>NaN</td>\n    </tr>\n    <tr>\n      <th>...</th>\n      <td>...</td>\n      <td>...</td>\n      <td>...</td>\n      <td>...</td>\n      <td>...</td>\n      <td>...</td>\n      <td>...</td>\n      <td>...</td>\n      <td>...</td>\n      <td>...</td>\n      <td>...</td>\n      <td>...</td>\n      <td>...</td>\n      <td>...</td>\n      <td>...</td>\n      <td>...</td>\n      <td>...</td>\n      <td>...</td>\n      <td>...</td>\n      <td>...</td>\n      <td>...</td>\n    </tr>\n    <tr>\n      <th>636</th>\n      <td>7r4q_D</td>\n      <td>OF</td>\n      <td>83.75</td>\n      <td>88.99</td>\n      <td>94.28</td>\n      <td>96.47</td>\n      <td>97.32</td>\n      <td>97.67</td>\n      <td>97.69</td>\n      <td>97.25</td>\n      <td>...</td>\n      <td>95.64</td>\n      <td>96.05</td>\n      <td>96.82</td>\n      <td>98.15</td>\n      <td>98.24</td>\n      <td>98.40</td>\n      <td>98.32</td>\n      <td>98.29</td>\n      <td>97.34</td>\n      <td>NaN</td>\n    </tr>\n    <tr>\n      <th>637</th>\n      <td>7r4q_D</td>\n      <td>AF2</td>\n      <td>80.19</td>\n      <td>85.64</td>\n      <td>92.85</td>\n      <td>94.88</td>\n      <td>96.86</td>\n      <td>98.05</td>\n      <td>97.89</td>\n      <td>96.09</td>\n      <td>...</td>\n      <td>94.98</td>\n      <td>95.21</td>\n      <td>97.15</td>\n      <td>98.28</td>\n      <td>97.87</td>\n      <td>98.34</td>\n      <td>98.15</td>\n      <td>97.92</td>\n      <td>96.21</td>\n      <td>NaN</td>\n    </tr>\n    <tr>\n      <th>638</th>\n      <td>7r4q_D</td>\n      <td>OFr20</td>\n      <td>83.28</td>\n      <td>89.16</td>\n      <td>94.85</td>\n      <td>96.71</td>\n      <td>97.41</td>\n      <td>97.66</td>\n      <td>97.64</td>\n      <td>97.18</td>\n      <td>...</td>\n      <td>96.17</td>\n      <td>96.49</td>\n      <td>96.92</td>\n      <td>98.13</td>\n      <td>98.19</td>\n      <td>98.38</td>\n      <td>98.29</td>\n      <td>98.26</td>\n      <td>97.24</td>\n      <td>NaN</td>\n    </tr>\n    <tr>\n      <th>639</th>\n      <td>7r4q_D</td>\n      <td>YS</td>\n      <td>78.86</td>\n      <td>83.45</td>\n      <td>89.30</td>\n      <td>90.40</td>\n      <td>91.30</td>\n      <td>90.30</td>\n      <td>91.55</td>\n      <td>90.90</td>\n      <td>...</td>\n      <td>86.23</td>\n      <td>88.90</td>\n      <td>89.26</td>\n      <td>90.33</td>\n      <td>92.10</td>\n      <td>92.24</td>\n      <td>93.80</td>\n      <td>92.72</td>\n      <td>92.10</td>\n      <td>NaN</td>\n    </tr>\n    <tr>\n      <th>640</th>\n      <td>7r4q_D</td>\n      <td>OFr4</td>\n      <td>82.05</td>\n      <td>86.76</td>\n      <td>92.98</td>\n      <td>95.72</td>\n      <td>96.81</td>\n      <td>97.26</td>\n      <td>97.11</td>\n      <td>96.54</td>\n      <td>...</td>\n      <td>94.90</td>\n      <td>95.17</td>\n      <td>96.21</td>\n      <td>97.81</td>\n      <td>97.98</td>\n      <td>98.21</td>\n      <td>98.12</td>\n      <td>98.12</td>\n      <td>97.03</td>\n      <td>NaN</td>\n    </tr>\n  </tbody>\n</table>\n<p>641 rows × 140 columns</p>\n</div>"
     },
     "execution_count": 57,
     "metadata": {},
     "output_type": "execute_result"
    }
   ],
   "source": [
    "def get_confidence():\n",
    "    confidence = {}\n",
    "    for pdb, v in tqdm(conf_pos.items()):\n",
    "        curr_seq = ''.join(aho_align[pdb].values())\n",
    "        for m, v1 in v.items():\n",
    "            confidence[(pdb, m)] = [None] * seq_length\n",
    "            c = 0\n",
    "            for i, (r, v2) in enumerate(v1.items(), start=list(v1.keys())[0].number -1):\n",
    "                if i+c >= len(curr_seq):\n",
    "                    continue\n",
    "                while curr_seq[i + c] == '-':\n",
    "                    c += 1\n",
    "                # if pdb == '7d8b_B' and m == 'of':\n",
    "                #     print(curr_seq)\n",
    "                #     print(pdb, c, i,curr_seq[i], r.number, curr_seq[i + c], residues_code[r.name],\n",
    "                #           curr_seq[i + c] == residues_code[r.name], v2)\n",
    "                if curr_seq[i + c] == residues_code[r.name]:\n",
    "                    confidence[(pdb, m)][i + c] = v2\n",
    "                else:\n",
    "                    print(pdb, m, r.number, curr_seq[i + c], residues_code[r.name], v2)\n",
    "    return pd.DataFrame(confidence, index=range(1, 139)).T.rename_axis(['PDB', 'model']).reset_index()\n",
    "conf_pos_df = get_confidence()\n",
    "conf_pos_df.to_csv('confidence_by_pos.csv')\n",
    "conf_pos_df"
   ],
   "metadata": {
    "collapsed": false
   }
  },
  {
   "cell_type": "code",
   "execution_count": 58,
   "outputs": [
    {
     "data": {
      "text/plain": "  0%|          | 0/75 [00:00<?, ?it/s]",
      "application/vnd.jupyter.widget-view+json": {
       "version_major": 2,
       "version_minor": 0,
       "model_id": "b69f0d97608b43cfaa1567fbbb97a9a9"
      }
     },
     "metadata": {},
     "output_type": "display_data"
    },
    {
     "data": {
      "text/plain": "         PDB   model rmsd atoms    1    2    3    4    5    6    7  ...  129  \\\n0     7n9c_D      IF         ca  3.1  2.6  2.3  0.6  0.3  0.3  0.4  ...  0.5   \n1     7n9c_D      IF         bb  2.9  2.6  2.2  0.8  0.3  0.3  0.6  ...  0.6   \n2     7n9c_D      IF        all  4.2  2.6  2.2  1.6  0.4  0.6  1.1  ...  0.6   \n3     7n9c_D   ESMem         ca  5.9  3.9  2.8  0.9  0.6  0.8  0.5  ...  0.6   \n4     7n9c_D   ESMem         bb  5.4  3.9  2.7  1.0  0.6  0.7  0.7  ...  0.7   \n...      ...     ...        ...  ...  ...  ...  ...  ...  ...  ...  ...  ...   \n4291  7r4q_D  OFr4em         bb  2.7  1.5  1.1  0.5  0.3  0.4  0.4  ...  1.8   \n4292  7r4q_D  OFr4em        all  7.3  1.7  3.0  1.3  0.3  1.1  1.2  ...  1.8   \n4293  7r4q_D    OFr4         ca  3.2  1.6  0.8  0.4  0.5  0.5  0.5  ...  1.8   \n4294  7r4q_D    OFr4         bb  3.3  1.7  0.7  0.5  0.6  0.5  0.4  ...  1.7   \n4295  7r4q_D    OFr4        all  7.4  2.0  2.1  1.1  0.5  1.1  1.1  ...  1.7   \n\n      130  131  132  133  134  135  136  137  138  \n0     1.0  1.2  1.9  1.5  1.3  1.3  0.8  1.9  NaN  \n1     1.0  1.4  1.8  1.3  1.4  1.0  1.4  2.1  NaN  \n2     2.8  1.4  2.0  4.1  1.7  1.7  1.3  2.1  NaN  \n3     0.9  1.0  1.6  1.3  1.2  1.5  1.1  2.5  NaN  \n4     0.9  1.1  1.5  1.1  1.4  1.2  1.6  2.8  NaN  \n...   ...  ...  ...  ...  ...  ...  ...  ...  ...  \n4291  1.3  0.4  0.6  0.5  0.4  0.4  0.2  1.8  NaN  \n4292  2.0  0.4  1.4  0.7  1.3  0.6  0.4  1.9  NaN  \n4293  1.6  0.5  0.3  0.2  0.2  0.4  0.4  0.3  NaN  \n4294  1.4  0.6  0.3  0.3  0.2  0.4  0.4  1.1  NaN  \n4295  1.5  0.6  1.3  0.4  1.3  0.5  0.4  1.2  NaN  \n\n[4296 rows x 141 columns]",
      "text/html": "<div>\n<style scoped>\n    .dataframe tbody tr th:only-of-type {\n        vertical-align: middle;\n    }\n\n    .dataframe tbody tr th {\n        vertical-align: top;\n    }\n\n    .dataframe thead th {\n        text-align: right;\n    }\n</style>\n<table border=\"1\" class=\"dataframe\">\n  <thead>\n    <tr style=\"text-align: right;\">\n      <th></th>\n      <th>PDB</th>\n      <th>model</th>\n      <th>rmsd atoms</th>\n      <th>1</th>\n      <th>2</th>\n      <th>3</th>\n      <th>4</th>\n      <th>5</th>\n      <th>6</th>\n      <th>7</th>\n      <th>...</th>\n      <th>129</th>\n      <th>130</th>\n      <th>131</th>\n      <th>132</th>\n      <th>133</th>\n      <th>134</th>\n      <th>135</th>\n      <th>136</th>\n      <th>137</th>\n      <th>138</th>\n    </tr>\n  </thead>\n  <tbody>\n    <tr>\n      <th>0</th>\n      <td>7n9c_D</td>\n      <td>IF</td>\n      <td>ca</td>\n      <td>3.1</td>\n      <td>2.6</td>\n      <td>2.3</td>\n      <td>0.6</td>\n      <td>0.3</td>\n      <td>0.3</td>\n      <td>0.4</td>\n      <td>...</td>\n      <td>0.5</td>\n      <td>1.0</td>\n      <td>1.2</td>\n      <td>1.9</td>\n      <td>1.5</td>\n      <td>1.3</td>\n      <td>1.3</td>\n      <td>0.8</td>\n      <td>1.9</td>\n      <td>NaN</td>\n    </tr>\n    <tr>\n      <th>1</th>\n      <td>7n9c_D</td>\n      <td>IF</td>\n      <td>bb</td>\n      <td>2.9</td>\n      <td>2.6</td>\n      <td>2.2</td>\n      <td>0.8</td>\n      <td>0.3</td>\n      <td>0.3</td>\n      <td>0.6</td>\n      <td>...</td>\n      <td>0.6</td>\n      <td>1.0</td>\n      <td>1.4</td>\n      <td>1.8</td>\n      <td>1.3</td>\n      <td>1.4</td>\n      <td>1.0</td>\n      <td>1.4</td>\n      <td>2.1</td>\n      <td>NaN</td>\n    </tr>\n    <tr>\n      <th>2</th>\n      <td>7n9c_D</td>\n      <td>IF</td>\n      <td>all</td>\n      <td>4.2</td>\n      <td>2.6</td>\n      <td>2.2</td>\n      <td>1.6</td>\n      <td>0.4</td>\n      <td>0.6</td>\n      <td>1.1</td>\n      <td>...</td>\n      <td>0.6</td>\n      <td>2.8</td>\n      <td>1.4</td>\n      <td>2.0</td>\n      <td>4.1</td>\n      <td>1.7</td>\n      <td>1.7</td>\n      <td>1.3</td>\n      <td>2.1</td>\n      <td>NaN</td>\n    </tr>\n    <tr>\n      <th>3</th>\n      <td>7n9c_D</td>\n      <td>ESMem</td>\n      <td>ca</td>\n      <td>5.9</td>\n      <td>3.9</td>\n      <td>2.8</td>\n      <td>0.9</td>\n      <td>0.6</td>\n      <td>0.8</td>\n      <td>0.5</td>\n      <td>...</td>\n      <td>0.6</td>\n      <td>0.9</td>\n      <td>1.0</td>\n      <td>1.6</td>\n      <td>1.3</td>\n      <td>1.2</td>\n      <td>1.5</td>\n      <td>1.1</td>\n      <td>2.5</td>\n      <td>NaN</td>\n    </tr>\n    <tr>\n      <th>4</th>\n      <td>7n9c_D</td>\n      <td>ESMem</td>\n      <td>bb</td>\n      <td>5.4</td>\n      <td>3.9</td>\n      <td>2.7</td>\n      <td>1.0</td>\n      <td>0.6</td>\n      <td>0.7</td>\n      <td>0.7</td>\n      <td>...</td>\n      <td>0.7</td>\n      <td>0.9</td>\n      <td>1.1</td>\n      <td>1.5</td>\n      <td>1.1</td>\n      <td>1.4</td>\n      <td>1.2</td>\n      <td>1.6</td>\n      <td>2.8</td>\n      <td>NaN</td>\n    </tr>\n    <tr>\n      <th>...</th>\n      <td>...</td>\n      <td>...</td>\n      <td>...</td>\n      <td>...</td>\n      <td>...</td>\n      <td>...</td>\n      <td>...</td>\n      <td>...</td>\n      <td>...</td>\n      <td>...</td>\n      <td>...</td>\n      <td>...</td>\n      <td>...</td>\n      <td>...</td>\n      <td>...</td>\n      <td>...</td>\n      <td>...</td>\n      <td>...</td>\n      <td>...</td>\n      <td>...</td>\n      <td>...</td>\n    </tr>\n    <tr>\n      <th>4291</th>\n      <td>7r4q_D</td>\n      <td>OFr4em</td>\n      <td>bb</td>\n      <td>2.7</td>\n      <td>1.5</td>\n      <td>1.1</td>\n      <td>0.5</td>\n      <td>0.3</td>\n      <td>0.4</td>\n      <td>0.4</td>\n      <td>...</td>\n      <td>1.8</td>\n      <td>1.3</td>\n      <td>0.4</td>\n      <td>0.6</td>\n      <td>0.5</td>\n      <td>0.4</td>\n      <td>0.4</td>\n      <td>0.2</td>\n      <td>1.8</td>\n      <td>NaN</td>\n    </tr>\n    <tr>\n      <th>4292</th>\n      <td>7r4q_D</td>\n      <td>OFr4em</td>\n      <td>all</td>\n      <td>7.3</td>\n      <td>1.7</td>\n      <td>3.0</td>\n      <td>1.3</td>\n      <td>0.3</td>\n      <td>1.1</td>\n      <td>1.2</td>\n      <td>...</td>\n      <td>1.8</td>\n      <td>2.0</td>\n      <td>0.4</td>\n      <td>1.4</td>\n      <td>0.7</td>\n      <td>1.3</td>\n      <td>0.6</td>\n      <td>0.4</td>\n      <td>1.9</td>\n      <td>NaN</td>\n    </tr>\n    <tr>\n      <th>4293</th>\n      <td>7r4q_D</td>\n      <td>OFr4</td>\n      <td>ca</td>\n      <td>3.2</td>\n      <td>1.6</td>\n      <td>0.8</td>\n      <td>0.4</td>\n      <td>0.5</td>\n      <td>0.5</td>\n      <td>0.5</td>\n      <td>...</td>\n      <td>1.8</td>\n      <td>1.6</td>\n      <td>0.5</td>\n      <td>0.3</td>\n      <td>0.2</td>\n      <td>0.2</td>\n      <td>0.4</td>\n      <td>0.4</td>\n      <td>0.3</td>\n      <td>NaN</td>\n    </tr>\n    <tr>\n      <th>4294</th>\n      <td>7r4q_D</td>\n      <td>OFr4</td>\n      <td>bb</td>\n      <td>3.3</td>\n      <td>1.7</td>\n      <td>0.7</td>\n      <td>0.5</td>\n      <td>0.6</td>\n      <td>0.5</td>\n      <td>0.4</td>\n      <td>...</td>\n      <td>1.7</td>\n      <td>1.4</td>\n      <td>0.6</td>\n      <td>0.3</td>\n      <td>0.3</td>\n      <td>0.2</td>\n      <td>0.4</td>\n      <td>0.4</td>\n      <td>1.1</td>\n      <td>NaN</td>\n    </tr>\n    <tr>\n      <th>4295</th>\n      <td>7r4q_D</td>\n      <td>OFr4</td>\n      <td>all</td>\n      <td>7.4</td>\n      <td>2.0</td>\n      <td>2.1</td>\n      <td>1.1</td>\n      <td>0.5</td>\n      <td>1.1</td>\n      <td>1.1</td>\n      <td>...</td>\n      <td>1.7</td>\n      <td>1.5</td>\n      <td>0.6</td>\n      <td>1.3</td>\n      <td>0.4</td>\n      <td>1.3</td>\n      <td>0.5</td>\n      <td>0.4</td>\n      <td>1.2</td>\n      <td>NaN</td>\n    </tr>\n  </tbody>\n</table>\n<p>4296 rows × 141 columns</p>\n</div>"
     },
     "execution_count": 58,
     "metadata": {},
     "output_type": "execute_result"
    }
   ],
   "source": [
    "def get_rmsd_pos():\n",
    "    dist_pos = {}\n",
    "    for pdb, v in tqdm(atoms_dist.items()):\n",
    "        curr_seq = ''.join(aho_align[pdb].values())\n",
    "        for m, v1 in v.items():\n",
    "            dist_pos[(pdb, m, 'ca')] = [None] * seq_length\n",
    "            dist_pos[(pdb, m, 'bb')] = [None] * seq_length\n",
    "            dist_pos[(pdb, m, 'all')] = [None] * seq_length\n",
    "            c = 0\n",
    "            for i, (res, v2) in enumerate(v1.items(), start=list(v1.keys())[0].number -1):\n",
    "                if i+c >= len(curr_seq):\n",
    "                    continue\n",
    "                while curr_seq[i + c] == '-':\n",
    "                    c += 1\n",
    "                # if pdb == '7sl9_B' and m == 'of':\n",
    "                #     print(res.chain, res.name, res.number, curr_seq[i + c], i+c,\n",
    "                #           get_rmsd([v2[x] for x in v2 if x.name == 'CA']),\n",
    "                #           )\n",
    "                #     if  i+c == 49:\n",
    "                #         print(get_rmsd(list(v2.values())), list(v2.keys()))\n",
    "                dist_pos[(pdb, m, 'ca')][i+c] = get_rmsd([v2[x] for x in v2 if x.name == 'CA'])\n",
    "                dist_pos[(pdb, m, 'bb')][i+c] = get_rmsd([v2[x] for x in v2 if x.name in bb_atoms])\n",
    "                dist_pos[(pdb, m, 'all')][i+c] = get_rmsd(list(v2.values()))\n",
    "    return pd.DataFrame(dist_pos, index=range(1, 139)).T.rename_axis(['PDB', 'model', 'rmsd atoms']).reset_index()\n",
    "rmsd_by_pos = get_rmsd_pos()\n",
    "rmsd_by_pos.to_csv('rmsd_by_pos.csv')\n",
    "rmsd_by_pos"
   ],
   "metadata": {
    "collapsed": false
   }
  },
  {
   "cell_type": "code",
   "execution_count": 59,
   "outputs": [
    {
     "data": {
      "text/plain": "  0%|          | 0/75 [00:00<?, ?it/s]",
      "application/vnd.jupyter.widget-view+json": {
       "version_major": 2,
       "version_minor": 0,
       "model_id": "c94607869a7d4ce0b06d1f5c800123c5"
      }
     },
     "metadata": {},
     "output_type": "display_data"
    },
    {
     "data": {
      "text/plain": "          PDB model Fragment rmsd atoms  RMSD\n0      7n9c_D    IF       Fw         ca   1.3\n1      7n9c_D    IF       Fw         bb   1.3\n2      7n9c_D    IF       Fw        all   2.0\n3      7n9c_D    IF     CDR1         ca   2.0\n4      7n9c_D    IF     CDR1         bb   2.1\n...       ...   ...      ...        ...   ...\n21475  7r4q_D  OFr4     CDR3         bb   4.1\n21476  7r4q_D  OFr4     CDR3        all   5.2\n21477  7r4q_D  OFr4   Global         ca   1.7\n21478  7r4q_D  OFr4   Global         bb   1.7\n21479  7r4q_D  OFr4   Global        all   2.7\n\n[21480 rows x 5 columns]",
      "text/html": "<div>\n<style scoped>\n    .dataframe tbody tr th:only-of-type {\n        vertical-align: middle;\n    }\n\n    .dataframe tbody tr th {\n        vertical-align: top;\n    }\n\n    .dataframe thead th {\n        text-align: right;\n    }\n</style>\n<table border=\"1\" class=\"dataframe\">\n  <thead>\n    <tr style=\"text-align: right;\">\n      <th></th>\n      <th>PDB</th>\n      <th>model</th>\n      <th>Fragment</th>\n      <th>rmsd atoms</th>\n      <th>RMSD</th>\n    </tr>\n  </thead>\n  <tbody>\n    <tr>\n      <th>0</th>\n      <td>7n9c_D</td>\n      <td>IF</td>\n      <td>Fw</td>\n      <td>ca</td>\n      <td>1.3</td>\n    </tr>\n    <tr>\n      <th>1</th>\n      <td>7n9c_D</td>\n      <td>IF</td>\n      <td>Fw</td>\n      <td>bb</td>\n      <td>1.3</td>\n    </tr>\n    <tr>\n      <th>2</th>\n      <td>7n9c_D</td>\n      <td>IF</td>\n      <td>Fw</td>\n      <td>all</td>\n      <td>2.0</td>\n    </tr>\n    <tr>\n      <th>3</th>\n      <td>7n9c_D</td>\n      <td>IF</td>\n      <td>CDR1</td>\n      <td>ca</td>\n      <td>2.0</td>\n    </tr>\n    <tr>\n      <th>4</th>\n      <td>7n9c_D</td>\n      <td>IF</td>\n      <td>CDR1</td>\n      <td>bb</td>\n      <td>2.1</td>\n    </tr>\n    <tr>\n      <th>...</th>\n      <td>...</td>\n      <td>...</td>\n      <td>...</td>\n      <td>...</td>\n      <td>...</td>\n    </tr>\n    <tr>\n      <th>21475</th>\n      <td>7r4q_D</td>\n      <td>OFr4</td>\n      <td>CDR3</td>\n      <td>bb</td>\n      <td>4.1</td>\n    </tr>\n    <tr>\n      <th>21476</th>\n      <td>7r4q_D</td>\n      <td>OFr4</td>\n      <td>CDR3</td>\n      <td>all</td>\n      <td>5.2</td>\n    </tr>\n    <tr>\n      <th>21477</th>\n      <td>7r4q_D</td>\n      <td>OFr4</td>\n      <td>Global</td>\n      <td>ca</td>\n      <td>1.7</td>\n    </tr>\n    <tr>\n      <th>21478</th>\n      <td>7r4q_D</td>\n      <td>OFr4</td>\n      <td>Global</td>\n      <td>bb</td>\n      <td>1.7</td>\n    </tr>\n    <tr>\n      <th>21479</th>\n      <td>7r4q_D</td>\n      <td>OFr4</td>\n      <td>Global</td>\n      <td>all</td>\n      <td>2.7</td>\n    </tr>\n  </tbody>\n</table>\n<p>21480 rows × 5 columns</p>\n</div>"
     },
     "execution_count": 59,
     "metadata": {},
     "output_type": "execute_result"
    }
   ],
   "source": [
    "def get_rmsd_segm():\n",
    "    seq_rmsd = {}\n",
    "    seq_d = {}\n",
    "    for pdb, v in tqdm(atoms_dist.items()):\n",
    "        curr_seq = ''.join(aho_align[pdb].values())\n",
    "        curr_seq_index = {\n",
    "            'CDR1': [''.join(aho_align[pdb].values()).index(aho_align[pdb]['CDR1']), ''.join(aho_align[pdb].values()).index(aho_align[pdb]['CDR1']) + len(aho_align[pdb]['CDR1'])],\n",
    "            'CDR2': [''.join(aho_align[pdb].values()).index(aho_align[pdb]['CDR2']), ''.join(aho_align[pdb].values()).index(aho_align[pdb]['CDR2']) + len(aho_align[pdb]['CDR2'])],\n",
    "            'CDR3': [''.join(aho_align[pdb].values()).index(aho_align[pdb]['CDR3']), ''.join(aho_align[pdb].values()).index(aho_align[pdb]['CDR3']) + len(aho_align[pdb]['CDR3'])]\n",
    "            }\n",
    "\n",
    "        for m, v1 in v.items():\n",
    "            for s in ['CDR1', 'CDR2', 'CDR3', 'Fw', 'Global']:\n",
    "                for a in ['ca', 'bb', 'all']:\n",
    "                    seq_d[(pdb, m, s, a)] = []\n",
    "\n",
    "            c = 0\n",
    "            for i, (res, v2) in enumerate(v1.items(), start=list(v1.keys())[0].number -1):\n",
    "                if i+c >= len(curr_seq):\n",
    "                    continue\n",
    "                while curr_seq[i + c] == '-':\n",
    "                    c += 1\n",
    "                if i + c in range(*curr_seq_index['CDR1']):\n",
    "                    seq_d[(pdb, m, 'CDR1', 'ca')].extend([v2[x] for x in v2 if x.name == 'CA'])\n",
    "                    seq_d[(pdb, m, 'CDR1', 'bb')].extend([v2[x] for x in v2 if x.name in bb_atoms])\n",
    "                    seq_d[(pdb, m, 'CDR1', 'all')].extend(list(v2.values()))\n",
    "                elif i + c in range(*curr_seq_index['CDR2']):\n",
    "                    seq_d[(pdb, m, 'CDR2', 'ca')].extend([v2[x] for x in v2 if x.name == 'CA'])\n",
    "                    seq_d[(pdb, m, 'CDR2', 'bb')].extend([v2[x] for x in v2 if x.name in bb_atoms])\n",
    "                    seq_d[(pdb, m, 'CDR2', 'all')].extend(list(v2.values()))\n",
    "                elif i + c in range(*curr_seq_index['CDR3']):\n",
    "                    seq_d[(pdb, m, 'CDR3', 'ca')].extend([v2[x] for x in v2 if x.name == 'CA'])\n",
    "                    seq_d[(pdb, m, 'CDR3', 'bb')].extend([v2[x] for x in v2 if x.name in bb_atoms])\n",
    "                    seq_d[(pdb, m, 'CDR3', 'all')].extend(list(v2.values()))\n",
    "                else:\n",
    "                    seq_d[(pdb, m, 'Fw', 'ca')].extend([v2[x] for x in v2 if x.name == 'CA'])\n",
    "                    seq_d[(pdb, m, 'Fw', 'bb')].extend([v2[x] for x in v2 if x.name in bb_atoms])\n",
    "                    seq_d[(pdb, m, 'Fw', 'all')].extend(list(v2.values()))\n",
    "                seq_d[(pdb, m, 'Global', 'ca')].extend([v2[x] for x in v2 if x.name == 'CA'])\n",
    "                seq_d[(pdb, m, 'Global', 'bb')].extend([v2[x] for x in v2 if x.name in bb_atoms])\n",
    "                seq_d[(pdb, m, 'Global', 'all')].extend(list(v2.values()))\n",
    "\n",
    "            for s in ['Fw', 'CDR1', 'CDR2', 'CDR3', 'Global']:\n",
    "                for a in ['ca', 'bb', 'all']:\n",
    "                    seq_rmsd[(pdb, m, s, a)] = get_rmsd(seq_d[(pdb, m, s, a)])\n",
    "    return pd.DataFrame(seq_rmsd, index={'RMSD': [0]}).T.rename_axis(['PDB', 'model', 'Fragment', 'rmsd atoms'])\\\n",
    "        .reset_index()\n",
    "rmsd_by_region = get_rmsd_segm()\n",
    "rmsd_by_region.to_csv('rmsd_by_region.csv')\n",
    "rmsd_by_region"
   ],
   "metadata": {
    "collapsed": false
   }
  },
  {
   "cell_type": "code",
   "execution_count": 60,
   "outputs": [
    {
     "data": {
      "text/plain": "         PDB model Fragment  Confidence  RMSD\n0     7n9c_D    IF     CDR1    0.711818   2.0\n1     7n9c_D   ESM     CDR1   83.454545   1.9\n3     7n9c_D    OF     CDR1   82.578182   1.9\n4     7n9c_D   AF2     CDR1   86.626364   1.7\n6     7n9c_D    YS     CDR1   84.184545   2.2\n...      ...   ...      ...         ...   ...\n2557  7r4q_D   ESM       Fw   92.454545   0.6\n2559  7r4q_D    OF       Fw   96.625000   0.6\n2560  7r4q_D   AF2       Fw   95.523636   0.6\n2562  7r4q_D    YS       Fw   89.903409   1.1\n2563  7r4q_D  OFr4       Fw   96.102955   0.7\n\n[1800 rows x 5 columns]",
      "text/html": "<div>\n<style scoped>\n    .dataframe tbody tr th:only-of-type {\n        vertical-align: middle;\n    }\n\n    .dataframe tbody tr th {\n        vertical-align: top;\n    }\n\n    .dataframe thead th {\n        text-align: right;\n    }\n</style>\n<table border=\"1\" class=\"dataframe\">\n  <thead>\n    <tr style=\"text-align: right;\">\n      <th></th>\n      <th>PDB</th>\n      <th>model</th>\n      <th>Fragment</th>\n      <th>Confidence</th>\n      <th>RMSD</th>\n    </tr>\n  </thead>\n  <tbody>\n    <tr>\n      <th>0</th>\n      <td>7n9c_D</td>\n      <td>IF</td>\n      <td>CDR1</td>\n      <td>0.711818</td>\n      <td>2.0</td>\n    </tr>\n    <tr>\n      <th>1</th>\n      <td>7n9c_D</td>\n      <td>ESM</td>\n      <td>CDR1</td>\n      <td>83.454545</td>\n      <td>1.9</td>\n    </tr>\n    <tr>\n      <th>3</th>\n      <td>7n9c_D</td>\n      <td>OF</td>\n      <td>CDR1</td>\n      <td>82.578182</td>\n      <td>1.9</td>\n    </tr>\n    <tr>\n      <th>4</th>\n      <td>7n9c_D</td>\n      <td>AF2</td>\n      <td>CDR1</td>\n      <td>86.626364</td>\n      <td>1.7</td>\n    </tr>\n    <tr>\n      <th>6</th>\n      <td>7n9c_D</td>\n      <td>YS</td>\n      <td>CDR1</td>\n      <td>84.184545</td>\n      <td>2.2</td>\n    </tr>\n    <tr>\n      <th>...</th>\n      <td>...</td>\n      <td>...</td>\n      <td>...</td>\n      <td>...</td>\n      <td>...</td>\n    </tr>\n    <tr>\n      <th>2557</th>\n      <td>7r4q_D</td>\n      <td>ESM</td>\n      <td>Fw</td>\n      <td>92.454545</td>\n      <td>0.6</td>\n    </tr>\n    <tr>\n      <th>2559</th>\n      <td>7r4q_D</td>\n      <td>OF</td>\n      <td>Fw</td>\n      <td>96.625000</td>\n      <td>0.6</td>\n    </tr>\n    <tr>\n      <th>2560</th>\n      <td>7r4q_D</td>\n      <td>AF2</td>\n      <td>Fw</td>\n      <td>95.523636</td>\n      <td>0.6</td>\n    </tr>\n    <tr>\n      <th>2562</th>\n      <td>7r4q_D</td>\n      <td>YS</td>\n      <td>Fw</td>\n      <td>89.903409</td>\n      <td>1.1</td>\n    </tr>\n    <tr>\n      <th>2563</th>\n      <td>7r4q_D</td>\n      <td>OFr4</td>\n      <td>Fw</td>\n      <td>96.102955</td>\n      <td>0.7</td>\n    </tr>\n  </tbody>\n</table>\n<p>1800 rows × 5 columns</p>\n</div>"
     },
     "execution_count": 60,
     "metadata": {},
     "output_type": "execute_result"
    }
   ],
   "source": [
    "cdr1 = conf_pos_df[list(range(22, 35))].mean(axis=1)\n",
    "cdr2 = conf_pos_df[list(range(51, 63))].mean(axis=1)\n",
    "cdr3 = conf_pos_df[list(range(103, 127))].mean(axis=1)\n",
    "fw = conf_pos_df[list(range(1, 22)) + list(range(35, 51)) + list(range(63, 103)) + list(range(127, 139))].mean(axis=1)\n",
    "df = pd.concat([pd.concat([conf_pos_df[['PDB', 'model']], cdr1, pd.DataFrame({'Fragm': ['CDR1'] * len(cdr1)})], axis=1),\n",
    "                pd.concat([conf_pos_df[['PDB', 'model']], cdr2, pd.DataFrame({'Fragm': ['CDR2'] * len(cdr1)})], axis=1),\n",
    "                pd.concat([conf_pos_df[['PDB', 'model']], cdr3, pd.DataFrame({'Fragm': ['CDR3'] * len(cdr1)})], axis=1),\n",
    "                pd.concat([conf_pos_df[['PDB', 'model']], fw, pd.DataFrame({'Fragm': ['Fw'] * len(cdr1)})], axis=1), ])\n",
    "df.columns = ['PDB', 'model', 'Confidence', 'Fragment']\n",
    "\n",
    "conf_rmsd = df.merge(rmsd_by_region[rmsd_by_region['rmsd atoms'] == 'ca'], how='inner', on=['PDB', 'model', 'Fragment'])\n",
    "conf_rmsd = conf_rmsd[['PDB', 'model', 'Fragment', 'Confidence', 'RMSD']]\n",
    "conf_rmsd = conf_rmsd[conf_rmsd['model'].isin(['AF2', 'IF', 'OF', 'OFr4', 'ESM', 'YS'])]\n",
    "conf_rmsd.to_csv('confidence_vs_rmsd.csv')\n",
    "conf_rmsd"
   ],
   "metadata": {
    "collapsed": false
   }
  },
  {
   "cell_type": "code",
   "execution_count": 61,
   "outputs": [
    {
     "data": {
      "text/plain": "   Model Region   Pearson  Pearson p-value  Spearman  Spearman p-value  \\\n0    AF2     Fw -0.117960     3.134894e-01 -0.144843      2.150288e-01   \n1    AF2   CDR1 -0.624733     2.096262e-09 -0.682884      1.491097e-11   \n2    AF2   CDR2 -0.535375     7.461210e-07 -0.415184      2.123329e-04   \n3    AF2   CDR2 -0.535375     7.461210e-07 -0.415184      2.123329e-04   \n4     OF     Fw -0.216594     6.197460e-02 -0.260855      2.379523e-02   \n5     OF   CDR1 -0.589830     2.572098e-08 -0.617739      3.550929e-09   \n6     OF   CDR2 -0.444191     6.550312e-05 -0.470183      2.078275e-05   \n7     OF   CDR2 -0.444191     6.550312e-05 -0.470183      2.078275e-05   \n8   OFr4     Fw -0.155272     1.834549e-01 -0.215539      6.328818e-02   \n9   OFr4   CDR1 -0.545344     4.209218e-07 -0.604323      9.419902e-09   \n10  OFr4   CDR2 -0.466857     2.419763e-05 -0.464950      2.638507e-05   \n11  OFr4   CDR2 -0.466857     2.419763e-05 -0.464950      2.638507e-05   \n12    IF     Fw  0.213390     6.603136e-02  0.163447      1.611673e-01   \n13    IF   CDR1  0.539485     5.905801e-07  0.598487      1.420124e-08   \n14    IF   CDR2  0.550394     3.127331e-07  0.468845      2.209872e-05   \n15    IF   CDR2  0.550394     3.127331e-07  0.468845      2.209872e-05   \n16   ESM     Fw -0.226345     5.085413e-02 -0.204159      7.892997e-02   \n17   ESM   CDR1 -0.484788     1.045418e-05 -0.535672      7.337006e-07   \n18   ESM   CDR2 -0.537390     6.655670e-07 -0.490990      7.733631e-06   \n19   ESM   CDR2 -0.537390     6.655670e-07 -0.490990      7.733631e-06   \n20    YS     Fw -0.203880     7.934948e-02 -0.304873      7.824005e-03   \n21    YS   CDR1 -0.126182     2.807082e-01 -0.210234      7.023501e-02   \n22    YS   CDR2 -0.218987     5.907768e-02 -0.198870      8.717954e-02   \n23    YS   CDR2 -0.218987     5.907768e-02 -0.198870      8.717954e-02   \n\n       Slope  Intercept  \n0  -0.039607   4.516624  \n1  -0.109333  11.340084  \n2  -0.112106  11.496596  \n3  -0.112106  11.496596  \n4  -0.039636   4.469822  \n5  -0.082127   8.680362  \n6  -0.070140   7.440093  \n7  -0.070140   7.440093  \n8  -0.025059   3.070806  \n9  -0.080396   8.475405  \n10 -0.078141   8.133016  \n11 -0.078141   8.133016  \n12  0.746597   0.470460  \n13  1.352009   0.727411  \n14  1.810167  -0.021036  \n15  1.810167  -0.021036  \n16 -0.056854   5.967897  \n17 -0.084975   8.813680  \n18 -0.088063   8.658188  \n19 -0.088063   8.658188  \n20 -0.052974   6.167444  \n21 -0.029301   4.687647  \n22 -0.037253   4.715506  \n23 -0.037253   4.715506  ",
      "text/html": "<div>\n<style scoped>\n    .dataframe tbody tr th:only-of-type {\n        vertical-align: middle;\n    }\n\n    .dataframe tbody tr th {\n        vertical-align: top;\n    }\n\n    .dataframe thead th {\n        text-align: right;\n    }\n</style>\n<table border=\"1\" class=\"dataframe\">\n  <thead>\n    <tr style=\"text-align: right;\">\n      <th></th>\n      <th>Model</th>\n      <th>Region</th>\n      <th>Pearson</th>\n      <th>Pearson p-value</th>\n      <th>Spearman</th>\n      <th>Spearman p-value</th>\n      <th>Slope</th>\n      <th>Intercept</th>\n    </tr>\n  </thead>\n  <tbody>\n    <tr>\n      <th>0</th>\n      <td>AF2</td>\n      <td>Fw</td>\n      <td>-0.117960</td>\n      <td>3.134894e-01</td>\n      <td>-0.144843</td>\n      <td>2.150288e-01</td>\n      <td>-0.039607</td>\n      <td>4.516624</td>\n    </tr>\n    <tr>\n      <th>1</th>\n      <td>AF2</td>\n      <td>CDR1</td>\n      <td>-0.624733</td>\n      <td>2.096262e-09</td>\n      <td>-0.682884</td>\n      <td>1.491097e-11</td>\n      <td>-0.109333</td>\n      <td>11.340084</td>\n    </tr>\n    <tr>\n      <th>2</th>\n      <td>AF2</td>\n      <td>CDR2</td>\n      <td>-0.535375</td>\n      <td>7.461210e-07</td>\n      <td>-0.415184</td>\n      <td>2.123329e-04</td>\n      <td>-0.112106</td>\n      <td>11.496596</td>\n    </tr>\n    <tr>\n      <th>3</th>\n      <td>AF2</td>\n      <td>CDR2</td>\n      <td>-0.535375</td>\n      <td>7.461210e-07</td>\n      <td>-0.415184</td>\n      <td>2.123329e-04</td>\n      <td>-0.112106</td>\n      <td>11.496596</td>\n    </tr>\n    <tr>\n      <th>4</th>\n      <td>OF</td>\n      <td>Fw</td>\n      <td>-0.216594</td>\n      <td>6.197460e-02</td>\n      <td>-0.260855</td>\n      <td>2.379523e-02</td>\n      <td>-0.039636</td>\n      <td>4.469822</td>\n    </tr>\n    <tr>\n      <th>5</th>\n      <td>OF</td>\n      <td>CDR1</td>\n      <td>-0.589830</td>\n      <td>2.572098e-08</td>\n      <td>-0.617739</td>\n      <td>3.550929e-09</td>\n      <td>-0.082127</td>\n      <td>8.680362</td>\n    </tr>\n    <tr>\n      <th>6</th>\n      <td>OF</td>\n      <td>CDR2</td>\n      <td>-0.444191</td>\n      <td>6.550312e-05</td>\n      <td>-0.470183</td>\n      <td>2.078275e-05</td>\n      <td>-0.070140</td>\n      <td>7.440093</td>\n    </tr>\n    <tr>\n      <th>7</th>\n      <td>OF</td>\n      <td>CDR2</td>\n      <td>-0.444191</td>\n      <td>6.550312e-05</td>\n      <td>-0.470183</td>\n      <td>2.078275e-05</td>\n      <td>-0.070140</td>\n      <td>7.440093</td>\n    </tr>\n    <tr>\n      <th>8</th>\n      <td>OFr4</td>\n      <td>Fw</td>\n      <td>-0.155272</td>\n      <td>1.834549e-01</td>\n      <td>-0.215539</td>\n      <td>6.328818e-02</td>\n      <td>-0.025059</td>\n      <td>3.070806</td>\n    </tr>\n    <tr>\n      <th>9</th>\n      <td>OFr4</td>\n      <td>CDR1</td>\n      <td>-0.545344</td>\n      <td>4.209218e-07</td>\n      <td>-0.604323</td>\n      <td>9.419902e-09</td>\n      <td>-0.080396</td>\n      <td>8.475405</td>\n    </tr>\n    <tr>\n      <th>10</th>\n      <td>OFr4</td>\n      <td>CDR2</td>\n      <td>-0.466857</td>\n      <td>2.419763e-05</td>\n      <td>-0.464950</td>\n      <td>2.638507e-05</td>\n      <td>-0.078141</td>\n      <td>8.133016</td>\n    </tr>\n    <tr>\n      <th>11</th>\n      <td>OFr4</td>\n      <td>CDR2</td>\n      <td>-0.466857</td>\n      <td>2.419763e-05</td>\n      <td>-0.464950</td>\n      <td>2.638507e-05</td>\n      <td>-0.078141</td>\n      <td>8.133016</td>\n    </tr>\n    <tr>\n      <th>12</th>\n      <td>IF</td>\n      <td>Fw</td>\n      <td>0.213390</td>\n      <td>6.603136e-02</td>\n      <td>0.163447</td>\n      <td>1.611673e-01</td>\n      <td>0.746597</td>\n      <td>0.470460</td>\n    </tr>\n    <tr>\n      <th>13</th>\n      <td>IF</td>\n      <td>CDR1</td>\n      <td>0.539485</td>\n      <td>5.905801e-07</td>\n      <td>0.598487</td>\n      <td>1.420124e-08</td>\n      <td>1.352009</td>\n      <td>0.727411</td>\n    </tr>\n    <tr>\n      <th>14</th>\n      <td>IF</td>\n      <td>CDR2</td>\n      <td>0.550394</td>\n      <td>3.127331e-07</td>\n      <td>0.468845</td>\n      <td>2.209872e-05</td>\n      <td>1.810167</td>\n      <td>-0.021036</td>\n    </tr>\n    <tr>\n      <th>15</th>\n      <td>IF</td>\n      <td>CDR2</td>\n      <td>0.550394</td>\n      <td>3.127331e-07</td>\n      <td>0.468845</td>\n      <td>2.209872e-05</td>\n      <td>1.810167</td>\n      <td>-0.021036</td>\n    </tr>\n    <tr>\n      <th>16</th>\n      <td>ESM</td>\n      <td>Fw</td>\n      <td>-0.226345</td>\n      <td>5.085413e-02</td>\n      <td>-0.204159</td>\n      <td>7.892997e-02</td>\n      <td>-0.056854</td>\n      <td>5.967897</td>\n    </tr>\n    <tr>\n      <th>17</th>\n      <td>ESM</td>\n      <td>CDR1</td>\n      <td>-0.484788</td>\n      <td>1.045418e-05</td>\n      <td>-0.535672</td>\n      <td>7.337006e-07</td>\n      <td>-0.084975</td>\n      <td>8.813680</td>\n    </tr>\n    <tr>\n      <th>18</th>\n      <td>ESM</td>\n      <td>CDR2</td>\n      <td>-0.537390</td>\n      <td>6.655670e-07</td>\n      <td>-0.490990</td>\n      <td>7.733631e-06</td>\n      <td>-0.088063</td>\n      <td>8.658188</td>\n    </tr>\n    <tr>\n      <th>19</th>\n      <td>ESM</td>\n      <td>CDR2</td>\n      <td>-0.537390</td>\n      <td>6.655670e-07</td>\n      <td>-0.490990</td>\n      <td>7.733631e-06</td>\n      <td>-0.088063</td>\n      <td>8.658188</td>\n    </tr>\n    <tr>\n      <th>20</th>\n      <td>YS</td>\n      <td>Fw</td>\n      <td>-0.203880</td>\n      <td>7.934948e-02</td>\n      <td>-0.304873</td>\n      <td>7.824005e-03</td>\n      <td>-0.052974</td>\n      <td>6.167444</td>\n    </tr>\n    <tr>\n      <th>21</th>\n      <td>YS</td>\n      <td>CDR1</td>\n      <td>-0.126182</td>\n      <td>2.807082e-01</td>\n      <td>-0.210234</td>\n      <td>7.023501e-02</td>\n      <td>-0.029301</td>\n      <td>4.687647</td>\n    </tr>\n    <tr>\n      <th>22</th>\n      <td>YS</td>\n      <td>CDR2</td>\n      <td>-0.218987</td>\n      <td>5.907768e-02</td>\n      <td>-0.198870</td>\n      <td>8.717954e-02</td>\n      <td>-0.037253</td>\n      <td>4.715506</td>\n    </tr>\n    <tr>\n      <th>23</th>\n      <td>YS</td>\n      <td>CDR2</td>\n      <td>-0.218987</td>\n      <td>5.907768e-02</td>\n      <td>-0.198870</td>\n      <td>8.717954e-02</td>\n      <td>-0.037253</td>\n      <td>4.715506</td>\n    </tr>\n  </tbody>\n</table>\n</div>"
     },
     "execution_count": 61,
     "metadata": {},
     "output_type": "execute_result"
    }
   ],
   "source": [
    "from scipy import stats\n",
    "excluded_pdbs = {'AF2': ['7tpr_D', '7r20_B', '7kd0_C', '7rnn_C'],\n",
    "                 'OF': ['7tpr_D', '7r20_B', '7s7r_B', '7rnn_C'],\n",
    "                 'OFr4': ['7tpr_D', '7r20_B', '7s7r_B', '7rnn_C'],\n",
    "                 'IF': ['7tpr_D', '7d8b_B', '7d6y_B', '7d4b_B', '7r20_B', '7s7r_B', '7sl9_B', '7apj_B', '7ndf_C'],\n",
    "                 'ESM': [],\n",
    "                 'YS': []}\n",
    "d = []\n",
    "for x in ['AF2', 'OF', 'OFr4', 'IF', 'ESM', 'YS']:\n",
    "    for y in ['Fw', 'CDR1', 'CDR2', 'CDR2']:\n",
    "        df_base = conf_rmsd[(conf_rmsd['Fragment'] == y) & (conf_rmsd['model'] == x)]\n",
    "        # df = df_base[~df_base['PDB'].isin(excluded_pdbs[x])]\n",
    "        pearson, ppvalue = stats.pearsonr(\n",
    "            df_base['Confidence'],\n",
    "            df_base['RMSD'])\n",
    "\n",
    "        slope, intercept, r_value, p_value, std_err = stats.linregress(\n",
    "            df_base['Confidence'],\n",
    "            df_base['RMSD'])\n",
    "\n",
    "        spearman, spvalue = stats.spearmanr(\n",
    "            df_base['Confidence'],\n",
    "            df_base['RMSD'])\n",
    "\n",
    "        d.append([x, y, pearson, ppvalue, spearman, spvalue, slope, intercept])\n",
    "corr = pd.DataFrame(data=d, columns=['Model', 'Region', 'Pearson', 'Pearson p-value', 'Spearman', 'Spearman p-value', 'Slope', 'Intercept'])\n",
    "corr.to_csv('confidence_vs_rmsd_correlation.csv')\n",
    "corr"
   ],
   "metadata": {
    "collapsed": false
   }
  }
 ],
 "metadata": {
  "kernelspec": {
   "display_name": "Python 3",
   "language": "python",
   "name": "python3"
  },
  "language_info": {
   "codemirror_mode": {
    "name": "ipython",
    "version": 2
   },
   "file_extension": ".py",
   "mimetype": "text/x-python",
   "name": "python",
   "nbconvert_exporter": "python",
   "pygments_lexer": "ipython2",
   "version": "2.7.6"
  }
 },
 "nbformat": 4,
 "nbformat_minor": 0
}
